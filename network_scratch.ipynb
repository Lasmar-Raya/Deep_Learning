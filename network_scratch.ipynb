{
 "cells": [
  {
   "cell_type": "markdown",
   "id": "b2c4a47f",
   "metadata": {},
   "source": [
    "* We're going to implement a neural network composed with 2 layers \n",
    "* We're going to use sigmoid as an activation function\n",
    "* MSE for the cost function \n",
    "* Our goal in training is to find the best set of weights and biases that minimizes the loss function."
   ]
  },
  {
   "cell_type": "markdown",
   "id": "ef4ea90f",
   "metadata": {},
   "source": [
    "* X1   |    X2  |    X3  |       Y\n",
    "* 0    |     0  |      1 |       0                          \n",
    "* 0    |     1  |      1 |       1\n",
    "* 1    |     0  |      1 |       1\n",
    "* 1    |     1  |      1 |       0"
   ]
  },
  {
   "cell_type": "code",
   "execution_count": 5,
   "id": "9d96d6d7",
   "metadata": {},
   "outputs": [],
   "source": [
    "import numpy as np\n",
    "\n",
    "def sigmoid(x):\n",
    "    return 1/(1+np.exp(-x))"
   ]
  },
  {
   "cell_type": "code",
   "execution_count": 13,
   "id": "b0909181",
   "metadata": {},
   "outputs": [],
   "source": [
    "def sigmoid_derivative(x):\n",
    "    return sigmoid(x) * (1 - sigmoid(x))"
   ]
  },
  {
   "cell_type": "code",
   "execution_count": 19,
   "id": "a9a8e4d8",
   "metadata": {},
   "outputs": [],
   "source": [
    "class Neural_Network:\n",
    "    def __init__(self, x, y):\n",
    "        self.input = x\n",
    "        self.weights1 = np.random.rand(self.input.shape[1], 4)\n",
    "        self.weights2 = np.random.rand(4, 1)\n",
    "        self.y = y\n",
    "        self.output = np.zeros(self.y.shape)\n",
    "        self.learning_rate = 0.1\n",
    "        \n",
    "        \n",
    "    def feed_forward(self):\n",
    "        self.layer1 = sigmoid(np.dot(self.input, self.weights1))\n",
    "        self.output = sigmoid(np.dot(self.layer1, self.weights2))\n",
    "        \n",
    "# we need to know the derivative of the loss function with respect to the weights and biases to properly adjust them\n",
    "# Gradient Descent: If we have the derivative, we can simply update the weights and biases by increasing/reducing\n",
    "# we can’t directly calculate the derivative of the loss function with respect to the weights and biases \n",
    "# because the equation of the loss function does not contain the weights and biases.\n",
    "        \n",
    "    def back_prop(self):\n",
    "        # application of the chain rule to find derivative of the loss function with respect to weights2 and weights1\n",
    "        \"\"\"\n",
    "        Loss(y, y_pred) = sum(y - y_pred)**2\n",
    "        d(Loss(y, y_pred))/d(weight) = [d(Loss(y, y_pred))/d(y_pred)]*[d(y_pred)/d(z)]*[d(z)/d(weight)]\n",
    "                                     = 2 * (y - y_pred) * derivative_sigmoid * x\n",
    "                                     = 2 * (y - y_pred) * z * (1 - z) * x\n",
    "        \"\"\"\n",
    "        d_weights2 = np.dot(self.layer1.T, (2*(self.y - self.output) * sigmoid_derivative(self.output)))\n",
    "        d_weights1 = np.dot(self.input.T,  (np.dot(2*(self.y - self.output) * sigmoid_derivative(self.output), self.weights2.T) * sigmoid_derivative(self.layer1)))\n",
    "\n",
    "        # update the weights with the derivative (slope) of the loss function\n",
    "        self.weights1 += self.learning_rate * d_weights1\n",
    "        self.weights2 += self.learning_rate * d_weights2\n",
    "        \n",
    "        \n",
    "        "
   ]
  },
  {
   "cell_type": "code",
   "execution_count": 15,
   "id": "f80f6d34",
   "metadata": {},
   "outputs": [
    {
     "name": "stdout",
     "output_type": "stream",
     "text": [
      "(4, 3)\n"
     ]
    }
   ],
   "source": [
    "# Input\n",
    "x = np.array([[0,0,1],[0,1,1],[1,0,1],[1,1,1]])\n",
    "print(x.shape)  "
   ]
  },
  {
   "cell_type": "code",
   "execution_count": 16,
   "id": "f3a6cd79",
   "metadata": {},
   "outputs": [
    {
     "name": "stdout",
     "output_type": "stream",
     "text": [
      "(4,)\n"
     ]
    }
   ],
   "source": [
    "y = np.array([0,1,1,0])\n",
    "print(y.shape)"
   ]
  },
  {
   "cell_type": "code",
   "execution_count": 17,
   "id": "34737d1a",
   "metadata": {},
   "outputs": [
    {
     "data": {
      "text/plain": [
       "array([[0],\n",
       "       [1],\n",
       "       [1],\n",
       "       [0]])"
      ]
     },
     "execution_count": 17,
     "metadata": {},
     "output_type": "execute_result"
    }
   ],
   "source": [
    "y = np.reshape(y,(4,1))\n",
    "y"
   ]
  },
  {
   "cell_type": "code",
   "execution_count": 20,
   "id": "bf5a0d3d",
   "metadata": {},
   "outputs": [],
   "source": [
    "model = Neural_Network(x, y)\n",
    "\n",
    "while True:\n",
    "    \n",
    "    model.feed_forward()\n",
    "    model.back_prop()\n",
    "    \n",
    "    if np.mean((model.output - model.y)**2)<0.001:\n",
    "        break"
   ]
  },
  {
   "cell_type": "code",
   "execution_count": 21,
   "id": "df75b751",
   "metadata": {},
   "outputs": [
    {
     "data": {
      "text/plain": [
       "array([[  3.41599845, -16.34692106,  18.71483868,  -0.32510728],\n",
       "       [  3.37981656,  18.91333796, -16.1422151 ,  -0.4266523 ],\n",
       "       [ -2.18086639,  -0.80654112,  -0.80586001,   2.43175318]])"
      ]
     },
     "execution_count": 21,
     "metadata": {},
     "output_type": "execute_result"
    }
   ],
   "source": [
    "model.weights1"
   ]
  },
  {
   "cell_type": "code",
   "execution_count": 22,
   "id": "f7279721",
   "metadata": {},
   "outputs": [
    {
     "data": {
      "text/plain": [
       "array([[ 19.3539246 ],\n",
       "       [-15.24254566],\n",
       "       [-15.4107224 ],\n",
       "       [  4.18546488]])"
      ]
     },
     "execution_count": 22,
     "metadata": {},
     "output_type": "execute_result"
    }
   ],
   "source": [
    "model.weights2"
   ]
  },
  {
   "cell_type": "code",
   "execution_count": 23,
   "id": "b926dbf1",
   "metadata": {},
   "outputs": [
    {
     "data": {
      "text/plain": [
       "array([[0.02530387],\n",
       "       [0.96499   ],\n",
       "       [0.96492279],\n",
       "       [0.03005382]])"
      ]
     },
     "execution_count": 23,
     "metadata": {},
     "output_type": "execute_result"
    }
   ],
   "source": [
    "model.output"
   ]
  },
  {
   "cell_type": "code",
   "execution_count": 24,
   "id": "bd7d22e8",
   "metadata": {},
   "outputs": [],
   "source": [
    "from sklearn.metrics import average_precision_score\n",
    "\n",
    "average_precision = average_precision_score(model.y, model.output)"
   ]
  },
  {
   "cell_type": "code",
   "execution_count": 25,
   "id": "4105524c",
   "metadata": {},
   "outputs": [
    {
     "data": {
      "text/plain": [
       "1.0"
      ]
     },
     "execution_count": 25,
     "metadata": {},
     "output_type": "execute_result"
    }
   ],
   "source": [
    "average_precision"
   ]
  },
  {
   "cell_type": "code",
   "execution_count": null,
   "id": "edd3f496",
   "metadata": {},
   "outputs": [],
   "source": []
  }
 ],
 "metadata": {
  "kernelspec": {
   "display_name": "Python 3 (ipykernel)",
   "language": "python",
   "name": "python3"
  },
  "language_info": {
   "codemirror_mode": {
    "name": "ipython",
    "version": 3
   },
   "file_extension": ".py",
   "mimetype": "text/x-python",
   "name": "python",
   "nbconvert_exporter": "python",
   "pygments_lexer": "ipython3",
   "version": "3.9.7"
  }
 },
 "nbformat": 4,
 "nbformat_minor": 5
}
