{
 "cells": [
  {
   "cell_type": "markdown",
   "id": "855f237a",
   "metadata": {},
   "source": [
    "##### Build a shallow neural network to classify MNIST digits\n",
    "* 60000 images to train on\n",
    "* 10000 images to test on\n",
    "* 0,1...,9\n",
    "* Every single one of these digits in the dataset is a square image that is 28*28 --> 784 pixels"
   ]
  },
  {
   "cell_type": "markdown",
   "id": "eb346096",
   "metadata": {},
   "source": [
    "#### Setting seed for reproduciability"
   ]
  },
  {
   "cell_type": "code",
   "execution_count": 1,
   "id": "95287b87",
   "metadata": {},
   "outputs": [],
   "source": [
    "import numpy as np\n",
    "np.random.seed(42)"
   ]
  },
  {
   "cell_type": "markdown",
   "id": "5962fef4",
   "metadata": {},
   "source": [
    "#### Load Dependencies"
   ]
  },
  {
   "cell_type": "markdown",
   "id": "4eff33df",
   "metadata": {},
   "source": [
    "* We're going to flat the image so that we take the first row on that image and then the second row pixels of that image and so on .\n",
    "* We're going to sequence them 0 through 27 and then the next row of pixels is 2 through 56...\n",
    "* We're simply making it into an array of length 783\n",
    "* For the neural that we're building, it has 784 inputs\n",
    "* We're going to feed this input layer to a hidden layer \n",
    "* We're going to choose 64 neurons in this hidden layer\n",
    "* For the output layer, we simply have 10 outputs(digits)"
   ]
  },
  {
   "cell_type": "code",
   "execution_count": 2,
   "id": "67e0b2b1",
   "metadata": {},
   "outputs": [],
   "source": [
    "import keras \n",
    "from keras.datasets import mnist\n",
    "from keras.models import Sequential\n",
    "from keras.layers import Dense\n",
    "from tensorflow.keras.optimizers import SGD\n",
    "from matplotlib import pyplot as plt"
   ]
  },
  {
   "cell_type": "markdown",
   "id": "de7f71bc",
   "metadata": {},
   "source": [
    "#### Load Data"
   ]
  },
  {
   "cell_type": "code",
   "execution_count": 3,
   "id": "1ace96c4",
   "metadata": {},
   "outputs": [],
   "source": [
    "(X_train, y_train), (X_test, y_test) = mnist.load_data()"
   ]
  },
  {
   "cell_type": "code",
   "execution_count": 4,
   "id": "6f98035e",
   "metadata": {},
   "outputs": [
    {
     "data": {
      "text/plain": [
       "(60000, 28, 28)"
      ]
     },
     "execution_count": 4,
     "metadata": {},
     "output_type": "execute_result"
    }
   ],
   "source": [
    "X_train.shape"
   ]
  },
  {
   "cell_type": "code",
   "execution_count": 5,
   "id": "2fc734d2",
   "metadata": {},
   "outputs": [
    {
     "data": {
      "text/plain": [
       "(60000,)"
      ]
     },
     "execution_count": 5,
     "metadata": {},
     "output_type": "execute_result"
    }
   ],
   "source": [
    "y_train.shape"
   ]
  },
  {
   "cell_type": "code",
   "execution_count": 6,
   "id": "20690731",
   "metadata": {},
   "outputs": [
    {
     "data": {
      "text/plain": [
       "array([5, 0, 4, 1, 9, 2, 1, 3, 1, 4, 3, 5, 3, 6, 1, 7, 2, 8, 6, 9, 4, 0,\n",
       "       9, 1, 1, 2, 4, 3, 2, 7, 3, 8, 6, 9, 0, 5, 6, 0, 7, 6, 1, 8, 7, 9,\n",
       "       3, 9, 8, 5, 9, 3, 3, 0, 7, 4, 9, 8, 0, 9, 4, 1, 4, 4, 6, 0, 4, 5,\n",
       "       6, 1, 0, 0, 1, 7, 1, 6, 3, 0, 2, 1, 1, 7, 9, 0, 2, 6, 7, 8, 3, 9,\n",
       "       0, 4, 6, 7, 4, 6, 8, 0, 7, 8, 3], dtype=uint8)"
      ]
     },
     "execution_count": 6,
     "metadata": {},
     "output_type": "execute_result"
    }
   ],
   "source": [
    "y_train[0:99]"
   ]
  },
  {
   "cell_type": "code",
   "execution_count": 7,
   "id": "52382915",
   "metadata": {},
   "outputs": [
    {
     "data": {
      "text/plain": [
       "array([[  0,   0,   0,   0,   0,   0,   0,   0,   0,   0,   0,   0,   0,\n",
       "          0,   0,   0,   0,   0,   0,   0,   0,   0,   0,   0,   0,   0,\n",
       "          0,   0],\n",
       "       [  0,   0,   0,   0,   0,   0,   0,   0,   0,   0,   0,   0,   0,\n",
       "          0,   0,   0,   0,   0,   0,   0,   0,   0,   0,   0,   0,   0,\n",
       "          0,   0],\n",
       "       [  0,   0,   0,   0,   0,   0,   0,   0,   0,   0,   0,   0,   0,\n",
       "          0,   0,   0,   0,   0,   0,   0,   0,   0,   0,   0,   0,   0,\n",
       "          0,   0],\n",
       "       [  0,   0,   0,   0,   0,   0,   0,   0,   0,   0,   0,   0,   0,\n",
       "          0,   0,   0,   0,   0,   0,   0,   0,   0,   0,   0,   0,   0,\n",
       "          0,   0],\n",
       "       [  0,   0,   0,   0,   0,   0,   0,   0,   0,   0,   0,   0,   0,\n",
       "          0,   0,   0,   0,   0,   0,   0,   0,   0,   0,   0,   0,   0,\n",
       "          0,   0],\n",
       "       [  0,   0,   0,   0,   0,   0,   0,   0,   0,   0,   0,   0,   3,\n",
       "         18,  18,  18, 126, 136, 175,  26, 166, 255, 247, 127,   0,   0,\n",
       "          0,   0],\n",
       "       [  0,   0,   0,   0,   0,   0,   0,   0,  30,  36,  94, 154, 170,\n",
       "        253, 253, 253, 253, 253, 225, 172, 253, 242, 195,  64,   0,   0,\n",
       "          0,   0],\n",
       "       [  0,   0,   0,   0,   0,   0,   0,  49, 238, 253, 253, 253, 253,\n",
       "        253, 253, 253, 253, 251,  93,  82,  82,  56,  39,   0,   0,   0,\n",
       "          0,   0],\n",
       "       [  0,   0,   0,   0,   0,   0,   0,  18, 219, 253, 253, 253, 253,\n",
       "        253, 198, 182, 247, 241,   0,   0,   0,   0,   0,   0,   0,   0,\n",
       "          0,   0],\n",
       "       [  0,   0,   0,   0,   0,   0,   0,   0,  80, 156, 107, 253, 253,\n",
       "        205,  11,   0,  43, 154,   0,   0,   0,   0,   0,   0,   0,   0,\n",
       "          0,   0],\n",
       "       [  0,   0,   0,   0,   0,   0,   0,   0,   0,  14,   1, 154, 253,\n",
       "         90,   0,   0,   0,   0,   0,   0,   0,   0,   0,   0,   0,   0,\n",
       "          0,   0],\n",
       "       [  0,   0,   0,   0,   0,   0,   0,   0,   0,   0,   0, 139, 253,\n",
       "        190,   2,   0,   0,   0,   0,   0,   0,   0,   0,   0,   0,   0,\n",
       "          0,   0],\n",
       "       [  0,   0,   0,   0,   0,   0,   0,   0,   0,   0,   0,  11, 190,\n",
       "        253,  70,   0,   0,   0,   0,   0,   0,   0,   0,   0,   0,   0,\n",
       "          0,   0],\n",
       "       [  0,   0,   0,   0,   0,   0,   0,   0,   0,   0,   0,   0,  35,\n",
       "        241, 225, 160, 108,   1,   0,   0,   0,   0,   0,   0,   0,   0,\n",
       "          0,   0],\n",
       "       [  0,   0,   0,   0,   0,   0,   0,   0,   0,   0,   0,   0,   0,\n",
       "         81, 240, 253, 253, 119,  25,   0,   0,   0,   0,   0,   0,   0,\n",
       "          0,   0],\n",
       "       [  0,   0,   0,   0,   0,   0,   0,   0,   0,   0,   0,   0,   0,\n",
       "          0,  45, 186, 253, 253, 150,  27,   0,   0,   0,   0,   0,   0,\n",
       "          0,   0],\n",
       "       [  0,   0,   0,   0,   0,   0,   0,   0,   0,   0,   0,   0,   0,\n",
       "          0,   0,  16,  93, 252, 253, 187,   0,   0,   0,   0,   0,   0,\n",
       "          0,   0],\n",
       "       [  0,   0,   0,   0,   0,   0,   0,   0,   0,   0,   0,   0,   0,\n",
       "          0,   0,   0,   0, 249, 253, 249,  64,   0,   0,   0,   0,   0,\n",
       "          0,   0],\n",
       "       [  0,   0,   0,   0,   0,   0,   0,   0,   0,   0,   0,   0,   0,\n",
       "          0,  46, 130, 183, 253, 253, 207,   2,   0,   0,   0,   0,   0,\n",
       "          0,   0],\n",
       "       [  0,   0,   0,   0,   0,   0,   0,   0,   0,   0,   0,   0,  39,\n",
       "        148, 229, 253, 253, 253, 250, 182,   0,   0,   0,   0,   0,   0,\n",
       "          0,   0],\n",
       "       [  0,   0,   0,   0,   0,   0,   0,   0,   0,   0,  24, 114, 221,\n",
       "        253, 253, 253, 253, 201,  78,   0,   0,   0,   0,   0,   0,   0,\n",
       "          0,   0],\n",
       "       [  0,   0,   0,   0,   0,   0,   0,   0,  23,  66, 213, 253, 253,\n",
       "        253, 253, 198,  81,   2,   0,   0,   0,   0,   0,   0,   0,   0,\n",
       "          0,   0],\n",
       "       [  0,   0,   0,   0,   0,   0,  18, 171, 219, 253, 253, 253, 253,\n",
       "        195,  80,   9,   0,   0,   0,   0,   0,   0,   0,   0,   0,   0,\n",
       "          0,   0],\n",
       "       [  0,   0,   0,   0,  55, 172, 226, 253, 253, 253, 253, 244, 133,\n",
       "         11,   0,   0,   0,   0,   0,   0,   0,   0,   0,   0,   0,   0,\n",
       "          0,   0],\n",
       "       [  0,   0,   0,   0, 136, 253, 253, 253, 212, 135, 132,  16,   0,\n",
       "          0,   0,   0,   0,   0,   0,   0,   0,   0,   0,   0,   0,   0,\n",
       "          0,   0],\n",
       "       [  0,   0,   0,   0,   0,   0,   0,   0,   0,   0,   0,   0,   0,\n",
       "          0,   0,   0,   0,   0,   0,   0,   0,   0,   0,   0,   0,   0,\n",
       "          0,   0],\n",
       "       [  0,   0,   0,   0,   0,   0,   0,   0,   0,   0,   0,   0,   0,\n",
       "          0,   0,   0,   0,   0,   0,   0,   0,   0,   0,   0,   0,   0,\n",
       "          0,   0],\n",
       "       [  0,   0,   0,   0,   0,   0,   0,   0,   0,   0,   0,   0,   0,\n",
       "          0,   0,   0,   0,   0,   0,   0,   0,   0,   0,   0,   0,   0,\n",
       "          0,   0]], dtype=uint8)"
      ]
     },
     "execution_count": 7,
     "metadata": {},
     "output_type": "execute_result"
    }
   ],
   "source": [
    "X_train[0]"
   ]
  },
  {
   "cell_type": "code",
   "execution_count": 8,
   "id": "4dc6e104",
   "metadata": {},
   "outputs": [
    {
     "data": {
      "text/plain": [
       "(10000, 28, 28)"
      ]
     },
     "execution_count": 8,
     "metadata": {},
     "output_type": "execute_result"
    }
   ],
   "source": [
    "X_test.shape"
   ]
  },
  {
   "cell_type": "code",
   "execution_count": 9,
   "id": "5e360480",
   "metadata": {},
   "outputs": [
    {
     "data": {
      "text/plain": [
       "(10000,)"
      ]
     },
     "execution_count": 9,
     "metadata": {},
     "output_type": "execute_result"
    }
   ],
   "source": [
    "y_test.shape"
   ]
  },
  {
   "cell_type": "code",
   "execution_count": 12,
   "id": "90b2df21",
   "metadata": {},
   "outputs": [
    {
     "data": {
      "image/png": "[encoded data removed]",
      "text/plain": [
       "<Figure size 360x360 with 6 Axes>"
      ]
     },
     "metadata": {
      "needs_background": "light"
     },
     "output_type": "display_data"
    }
   ],
   "source": [
    "plt.figure(figsize=(5,5))\n",
    "\n",
    "for k in range(6):\n",
    "    plt.subplot(3,3, k+1)\n",
    "    plt.imshow(X_train[k])\n",
    "    \n",
    "plt.show()"
   ]
  },
  {
   "cell_type": "code",
   "execution_count": 13,
   "id": "35984076",
   "metadata": {},
   "outputs": [
    {
     "data": {
      "image/png": "[encoded data removed]",
      "text/plain": [
       "<Figure size 360x360 with 6 Axes>"
      ]
     },
     "metadata": {
      "needs_background": "light"
     },
     "output_type": "display_data"
    }
   ],
   "source": [
    "plt.figure(figsize=(5,5))\n",
    "\n",
    "for k in range(6):\n",
    "    plt.subplot(3,3, k+1)\n",
    "    plt.imshow(X_test[k])\n",
    "    \n",
    "plt.show()"
   ]
  },
  {
   "cell_type": "code",
   "execution_count": 14,
   "id": "0f64b160",
   "metadata": {},
   "outputs": [
    {
     "data": {
      "text/plain": [
       "array([[  0,   0,   0,   0,   0,   0,   0,   0,   0,   0,   0,   0,   0,\n",
       "          0,   0,   0,   0,   0,   0,   0,   0,   0,   0,   0,   0,   0,\n",
       "          0,   0],\n",
       "       [  0,   0,   0,   0,   0,   0,   0,   0,   0,   0,   0,   0,   0,\n",
       "          0,   0,   0,   0,   0,   0,   0,   0,   0,   0,   0,   0,   0,\n",
       "          0,   0],\n",
       "       [  0,   0,   0,   0,   0,   0,   0,   0,   0,   0,   0,   0,   0,\n",
       "          0,   0,   0,   0,   0,   0,   0,   0,   0,   0,   0,   0,   0,\n",
       "          0,   0],\n",
       "       [  0,   0,   0,   0,   0,   0,   0,   0,   0,   0,   0,   0,   0,\n",
       "          0,   0,   0,   0,   0,   0,   0,   0,   0,   0,   0,   0,   0,\n",
       "          0,   0],\n",
       "       [  0,   0,   0,   0,   0,   0,   0,   0,   0,   0,   0,   0,   0,\n",
       "          0,   0,   0,   0,   0,   0,   0,   0,   0,   0,   0,   0,   0,\n",
       "          0,   0],\n",
       "       [  0,   0,   0,   0,   0,   0,   0,   0,   0,   0,   0,   0,   0,\n",
       "          0,   0,   0,   0,   0,   0,   0,   0,   0,   0,   0,   0,   0,\n",
       "          0,   0],\n",
       "       [  0,   0,   0,   0,   0,   0,   0,   0,   0,   0,   0,   0,   0,\n",
       "          0,   0,   0,   0,   0,   0,   0,   0,   0,   0,   0,   0,   0,\n",
       "          0,   0],\n",
       "       [  0,   0,   0,   0,   0,   0,  84, 185, 159, 151,  60,  36,   0,\n",
       "          0,   0,   0,   0,   0,   0,   0,   0,   0,   0,   0,   0,   0,\n",
       "          0,   0],\n",
       "       [  0,   0,   0,   0,   0,   0, 222, 254, 254, 254, 254, 241, 198,\n",
       "        198, 198, 198, 198, 198, 198, 198, 170,  52,   0,   0,   0,   0,\n",
       "          0,   0],\n",
       "       [  0,   0,   0,   0,   0,   0,  67, 114,  72, 114, 163, 227, 254,\n",
       "        225, 254, 254, 254, 250, 229, 254, 254, 140,   0,   0,   0,   0,\n",
       "          0,   0],\n",
       "       [  0,   0,   0,   0,   0,   0,   0,   0,   0,   0,   0,  17,  66,\n",
       "         14,  67,  67,  67,  59,  21, 236, 254, 106,   0,   0,   0,   0,\n",
       "          0,   0],\n",
       "       [  0,   0,   0,   0,   0,   0,   0,   0,   0,   0,   0,   0,   0,\n",
       "          0,   0,   0,   0,   0,  83, 253, 209,  18,   0,   0,   0,   0,\n",
       "          0,   0],\n",
       "       [  0,   0,   0,   0,   0,   0,   0,   0,   0,   0,   0,   0,   0,\n",
       "          0,   0,   0,   0,  22, 233, 255,  83,   0,   0,   0,   0,   0,\n",
       "          0,   0],\n",
       "       [  0,   0,   0,   0,   0,   0,   0,   0,   0,   0,   0,   0,   0,\n",
       "          0,   0,   0,   0, 129, 254, 238,  44,   0,   0,   0,   0,   0,\n",
       "          0,   0],\n",
       "       [  0,   0,   0,   0,   0,   0,   0,   0,   0,   0,   0,   0,   0,\n",
       "          0,   0,   0,  59, 249, 254,  62,   0,   0,   0,   0,   0,   0,\n",
       "          0,   0],\n",
       "       [  0,   0,   0,   0,   0,   0,   0,   0,   0,   0,   0,   0,   0,\n",
       "          0,   0,   0, 133, 254, 187,   5,   0,   0,   0,   0,   0,   0,\n",
       "          0,   0],\n",
       "       [  0,   0,   0,   0,   0,   0,   0,   0,   0,   0,   0,   0,   0,\n",
       "          0,   0,   9, 205, 248,  58,   0,   0,   0,   0,   0,   0,   0,\n",
       "          0,   0],\n",
       "       [  0,   0,   0,   0,   0,   0,   0,   0,   0,   0,   0,   0,   0,\n",
       "          0,   0, 126, 254, 182,   0,   0,   0,   0,   0,   0,   0,   0,\n",
       "          0,   0],\n",
       "       [  0,   0,   0,   0,   0,   0,   0,   0,   0,   0,   0,   0,   0,\n",
       "          0,  75, 251, 240,  57,   0,   0,   0,   0,   0,   0,   0,   0,\n",
       "          0,   0],\n",
       "       [  0,   0,   0,   0,   0,   0,   0,   0,   0,   0,   0,   0,   0,\n",
       "         19, 221, 254, 166,   0,   0,   0,   0,   0,   0,   0,   0,   0,\n",
       "          0,   0],\n",
       "       [  0,   0,   0,   0,   0,   0,   0,   0,   0,   0,   0,   0,   3,\n",
       "        203, 254, 219,  35,   0,   0,   0,   0,   0,   0,   0,   0,   0,\n",
       "          0,   0],\n",
       "       [  0,   0,   0,   0,   0,   0,   0,   0,   0,   0,   0,   0,  38,\n",
       "        254, 254,  77,   0,   0,   0,   0,   0,   0,   0,   0,   0,   0,\n",
       "          0,   0],\n",
       "       [  0,   0,   0,   0,   0,   0,   0,   0,   0,   0,   0,  31, 224,\n",
       "        254, 115,   1,   0,   0,   0,   0,   0,   0,   0,   0,   0,   0,\n",
       "          0,   0],\n",
       "       [  0,   0,   0,   0,   0,   0,   0,   0,   0,   0,   0, 133, 254,\n",
       "        254,  52,   0,   0,   0,   0,   0,   0,   0,   0,   0,   0,   0,\n",
       "          0,   0],\n",
       "       [  0,   0,   0,   0,   0,   0,   0,   0,   0,   0,  61, 242, 254,\n",
       "        254,  52,   0,   0,   0,   0,   0,   0,   0,   0,   0,   0,   0,\n",
       "          0,   0],\n",
       "       [  0,   0,   0,   0,   0,   0,   0,   0,   0,   0, 121, 254, 254,\n",
       "        219,  40,   0,   0,   0,   0,   0,   0,   0,   0,   0,   0,   0,\n",
       "          0,   0],\n",
       "       [  0,   0,   0,   0,   0,   0,   0,   0,   0,   0, 121, 254, 207,\n",
       "         18,   0,   0,   0,   0,   0,   0,   0,   0,   0,   0,   0,   0,\n",
       "          0,   0],\n",
       "       [  0,   0,   0,   0,   0,   0,   0,   0,   0,   0,   0,   0,   0,\n",
       "          0,   0,   0,   0,   0,   0,   0,   0,   0,   0,   0,   0,   0,\n",
       "          0,   0]], dtype=uint8)"
      ]
     },
     "execution_count": 14,
     "metadata": {},
     "output_type": "execute_result"
    }
   ],
   "source": [
    "X_test[0]"
   ]
  },
  {
   "cell_type": "code",
   "execution_count": 15,
   "id": "c734cf43",
   "metadata": {},
   "outputs": [
    {
     "data": {
      "text/plain": [
       "7"
      ]
     },
     "execution_count": 15,
     "metadata": {},
     "output_type": "execute_result"
    }
   ],
   "source": [
    "y_test[0]"
   ]
  },
  {
   "cell_type": "markdown",
   "id": "5c2197a8",
   "metadata": {},
   "source": [
    "#### Preprocess Data"
   ]
  },
  {
   "cell_type": "code",
   "execution_count": 16,
   "id": "8cbb45f2",
   "metadata": {},
   "outputs": [],
   "source": [
    "X_train = X_train.reshape(60000, 784).astype('float32')\n",
    "X_test = X_test.reshape(10000, 784).astype('float32')"
   ]
  },
  {
   "cell_type": "code",
   "execution_count": 17,
   "id": "7aa22d94",
   "metadata": {},
   "outputs": [],
   "source": [
    "X_train /= 255\n",
    "X_test /= 255"
   ]
  },
  {
   "cell_type": "code",
   "execution_count": 18,
   "id": "921284cc",
   "metadata": {},
   "outputs": [
    {
     "data": {
      "text/plain": [
       "array([0.        , 0.        , 0.        , 0.        , 0.        ,\n",
       "       0.        , 0.        , 0.        , 0.        , 0.        ,\n",
       "       0.        , 0.        , 0.        , 0.        , 0.        ,\n",
       "       0.        , 0.        , 0.        , 0.        , 0.        ,\n",
       "       0.        , 0.        , 0.        , 0.        , 0.        ,\n",
       "       0.        , 0.        , 0.        , 0.        , 0.        ,\n",
       "       0.        , 0.        , 0.        , 0.        , 0.        ,\n",
       "       0.        , 0.        , 0.        , 0.        , 0.        ,\n",
       "       0.        , 0.        , 0.        , 0.        , 0.        ,\n",
       "       0.        , 0.        , 0.        , 0.        , 0.        ,\n",
       "       0.        , 0.        , 0.        , 0.        , 0.        ,\n",
       "       0.        , 0.        , 0.        , 0.        , 0.        ,\n",
       "       0.        , 0.        , 0.        , 0.        , 0.        ,\n",
       "       0.        , 0.        , 0.        , 0.        , 0.        ,\n",
       "       0.        , 0.        , 0.        , 0.        , 0.        ,\n",
       "       0.        , 0.        , 0.        , 0.        , 0.        ,\n",
       "       0.        , 0.        , 0.        , 0.        , 0.        ,\n",
       "       0.        , 0.        , 0.        , 0.        , 0.        ,\n",
       "       0.        , 0.        , 0.        , 0.        , 0.        ,\n",
       "       0.        , 0.        , 0.        , 0.        , 0.        ,\n",
       "       0.        , 0.        , 0.        , 0.        , 0.        ,\n",
       "       0.        , 0.        , 0.        , 0.        , 0.        ,\n",
       "       0.        , 0.        , 0.        , 0.        , 0.        ,\n",
       "       0.        , 0.        , 0.        , 0.        , 0.        ,\n",
       "       0.        , 0.        , 0.        , 0.        , 0.        ,\n",
       "       0.        , 0.        , 0.        , 0.        , 0.        ,\n",
       "       0.        , 0.        , 0.        , 0.        , 0.        ,\n",
       "       0.        , 0.        , 0.        , 0.        , 0.        ,\n",
       "       0.        , 0.        , 0.        , 0.        , 0.        ,\n",
       "       0.        , 0.        , 0.        , 0.        , 0.        ,\n",
       "       0.        , 0.        , 0.01176471, 0.07058824, 0.07058824,\n",
       "       0.07058824, 0.49411765, 0.53333336, 0.6862745 , 0.10196079,\n",
       "       0.6509804 , 1.        , 0.96862745, 0.49803922, 0.        ,\n",
       "       0.        , 0.        , 0.        , 0.        , 0.        ,\n",
       "       0.        , 0.        , 0.        , 0.        , 0.        ,\n",
       "       0.        , 0.11764706, 0.14117648, 0.36862746, 0.6039216 ,\n",
       "       0.6666667 , 0.99215686, 0.99215686, 0.99215686, 0.99215686,\n",
       "       0.99215686, 0.88235295, 0.6745098 , 0.99215686, 0.9490196 ,\n",
       "       0.7647059 , 0.2509804 , 0.        , 0.        , 0.        ,\n",
       "       0.        , 0.        , 0.        , 0.        , 0.        ,\n",
       "       0.        , 0.        , 0.        , 0.19215687, 0.93333334,\n",
       "       0.99215686, 0.99215686, 0.99215686, 0.99215686, 0.99215686,\n",
       "       0.99215686, 0.99215686, 0.99215686, 0.9843137 , 0.3647059 ,\n",
       "       0.32156864, 0.32156864, 0.21960784, 0.15294118, 0.        ,\n",
       "       0.        , 0.        , 0.        , 0.        , 0.        ,\n",
       "       0.        , 0.        , 0.        , 0.        , 0.        ,\n",
       "       0.        , 0.07058824, 0.85882354, 0.99215686, 0.99215686,\n",
       "       0.99215686, 0.99215686, 0.99215686, 0.7764706 , 0.7137255 ,\n",
       "       0.96862745, 0.94509804, 0.        , 0.        , 0.        ,\n",
       "       0.        , 0.        , 0.        , 0.        , 0.        ,\n",
       "       0.        , 0.        , 0.        , 0.        , 0.        ,\n",
       "       0.        , 0.        , 0.        , 0.        , 0.        ,\n",
       "       0.3137255 , 0.6117647 , 0.41960785, 0.99215686, 0.99215686,\n",
       "       0.8039216 , 0.04313726, 0.        , 0.16862746, 0.6039216 ,\n",
       "       0.        , 0.        , 0.        , 0.        , 0.        ,\n",
       "       0.        , 0.        , 0.        , 0.        , 0.        ,\n",
       "       0.        , 0.        , 0.        , 0.        , 0.        ,\n",
       "       0.        , 0.        , 0.        , 0.        , 0.05490196,\n",
       "       0.00392157, 0.6039216 , 0.99215686, 0.3529412 , 0.        ,\n",
       "       0.        , 0.        , 0.        , 0.        , 0.        ,\n",
       "       0.        , 0.        , 0.        , 0.        , 0.        ,\n",
       "       0.        , 0.        , 0.        , 0.        , 0.        ,\n",
       "       0.        , 0.        , 0.        , 0.        , 0.        ,\n",
       "       0.        , 0.        , 0.        , 0.        , 0.54509807,\n",
       "       0.99215686, 0.74509805, 0.00784314, 0.        , 0.        ,\n",
       "       0.        , 0.        , 0.        , 0.        , 0.        ,\n",
       "       0.        , 0.        , 0.        , 0.        , 0.        ,\n",
       "       0.        , 0.        , 0.        , 0.        , 0.        ,\n",
       "       0.        , 0.        , 0.        , 0.        , 0.        ,\n",
       "       0.        , 0.        , 0.04313726, 0.74509805, 0.99215686,\n",
       "       0.27450982, 0.        , 0.        , 0.        , 0.        ,\n",
       "       0.        , 0.        , 0.        , 0.        , 0.        ,\n",
       "       0.        , 0.        , 0.        , 0.        , 0.        ,\n",
       "       0.        , 0.        , 0.        , 0.        , 0.        ,\n",
       "       0.        , 0.        , 0.        , 0.        , 0.        ,\n",
       "       0.        , 0.13725491, 0.94509804, 0.88235295, 0.627451  ,\n",
       "       0.42352942, 0.00392157, 0.        , 0.        , 0.        ,\n",
       "       0.        , 0.        , 0.        , 0.        , 0.        ,\n",
       "       0.        , 0.        , 0.        , 0.        , 0.        ,\n",
       "       0.        , 0.        , 0.        , 0.        , 0.        ,\n",
       "       0.        , 0.        , 0.        , 0.        , 0.        ,\n",
       "       0.31764707, 0.9411765 , 0.99215686, 0.99215686, 0.46666667,\n",
       "       0.09803922, 0.        , 0.        , 0.        , 0.        ,\n",
       "       0.        , 0.        , 0.        , 0.        , 0.        ,\n",
       "       0.        , 0.        , 0.        , 0.        , 0.        ,\n",
       "       0.        , 0.        , 0.        , 0.        , 0.        ,\n",
       "       0.        , 0.        , 0.        , 0.        , 0.1764706 ,\n",
       "       0.7294118 , 0.99215686, 0.99215686, 0.5882353 , 0.10588235,\n",
       "       0.        , 0.        , 0.        , 0.        , 0.        ,\n",
       "       0.        , 0.        , 0.        , 0.        , 0.        ,\n",
       "       0.        , 0.        , 0.        , 0.        , 0.        ,\n",
       "       0.        , 0.        , 0.        , 0.        , 0.        ,\n",
       "       0.        , 0.        , 0.        , 0.0627451 , 0.3647059 ,\n",
       "       0.9882353 , 0.99215686, 0.73333335, 0.        , 0.        ,\n",
       "       0.        , 0.        , 0.        , 0.        , 0.        ,\n",
       "       0.        , 0.        , 0.        , 0.        , 0.        ,\n",
       "       0.        , 0.        , 0.        , 0.        , 0.        ,\n",
       "       0.        , 0.        , 0.        , 0.        , 0.        ,\n",
       "       0.        , 0.        , 0.        , 0.9764706 , 0.99215686,\n",
       "       0.9764706 , 0.2509804 , 0.        , 0.        , 0.        ,\n",
       "       0.        , 0.        , 0.        , 0.        , 0.        ,\n",
       "       0.        , 0.        , 0.        , 0.        , 0.        ,\n",
       "       0.        , 0.        , 0.        , 0.        , 0.        ,\n",
       "       0.        , 0.        , 0.        , 0.18039216, 0.50980395,\n",
       "       0.7176471 , 0.99215686, 0.99215686, 0.8117647 , 0.00784314,\n",
       "       0.        , 0.        , 0.        , 0.        , 0.        ,\n",
       "       0.        , 0.        , 0.        , 0.        , 0.        ,\n",
       "       0.        , 0.        , 0.        , 0.        , 0.        ,\n",
       "       0.        , 0.        , 0.        , 0.        , 0.15294118,\n",
       "       0.5803922 , 0.8980392 , 0.99215686, 0.99215686, 0.99215686,\n",
       "       0.98039216, 0.7137255 , 0.        , 0.        , 0.        ,\n",
       "       0.        , 0.        , 0.        , 0.        , 0.        ,\n",
       "       0.        , 0.        , 0.        , 0.        , 0.        ,\n",
       "       0.        , 0.        , 0.        , 0.        , 0.        ,\n",
       "       0.09411765, 0.44705883, 0.8666667 , 0.99215686, 0.99215686,\n",
       "       0.99215686, 0.99215686, 0.7882353 , 0.30588236, 0.        ,\n",
       "       0.        , 0.        , 0.        , 0.        , 0.        ,\n",
       "       0.        , 0.        , 0.        , 0.        , 0.        ,\n",
       "       0.        , 0.        , 0.        , 0.        , 0.        ,\n",
       "       0.        , 0.09019608, 0.25882354, 0.8352941 , 0.99215686,\n",
       "       0.99215686, 0.99215686, 0.99215686, 0.7764706 , 0.31764707,\n",
       "       0.00784314, 0.        , 0.        , 0.        , 0.        ,\n",
       "       0.        , 0.        , 0.        , 0.        , 0.        ,\n",
       "       0.        , 0.        , 0.        , 0.        , 0.        ,\n",
       "       0.        , 0.        , 0.07058824, 0.67058825, 0.85882354,\n",
       "       0.99215686, 0.99215686, 0.99215686, 0.99215686, 0.7647059 ,\n",
       "       0.3137255 , 0.03529412, 0.        , 0.        , 0.        ,\n",
       "       0.        , 0.        , 0.        , 0.        , 0.        ,\n",
       "       0.        , 0.        , 0.        , 0.        , 0.        ,\n",
       "       0.        , 0.        , 0.        , 0.21568628, 0.6745098 ,\n",
       "       0.8862745 , 0.99215686, 0.99215686, 0.99215686, 0.99215686,\n",
       "       0.95686275, 0.52156866, 0.04313726, 0.        , 0.        ,\n",
       "       0.        , 0.        , 0.        , 0.        , 0.        ,\n",
       "       0.        , 0.        , 0.        , 0.        , 0.        ,\n",
       "       0.        , 0.        , 0.        , 0.        , 0.        ,\n",
       "       0.        , 0.53333336, 0.99215686, 0.99215686, 0.99215686,\n",
       "       0.83137256, 0.5294118 , 0.5176471 , 0.0627451 , 0.        ,\n",
       "       0.        , 0.        , 0.        , 0.        , 0.        ,\n",
       "       0.        , 0.        , 0.        , 0.        , 0.        ,\n",
       "       0.        , 0.        , 0.        , 0.        , 0.        ,\n",
       "       0.        , 0.        , 0.        , 0.        , 0.        ,\n",
       "       0.        , 0.        , 0.        , 0.        , 0.        ,\n",
       "       0.        , 0.        , 0.        , 0.        , 0.        ,\n",
       "       0.        , 0.        , 0.        , 0.        , 0.        ,\n",
       "       0.        , 0.        , 0.        , 0.        , 0.        ,\n",
       "       0.        , 0.        , 0.        , 0.        , 0.        ,\n",
       "       0.        , 0.        , 0.        , 0.        , 0.        ,\n",
       "       0.        , 0.        , 0.        , 0.        , 0.        ,\n",
       "       0.        , 0.        , 0.        , 0.        , 0.        ,\n",
       "       0.        , 0.        , 0.        , 0.        , 0.        ,\n",
       "       0.        , 0.        , 0.        , 0.        , 0.        ,\n",
       "       0.        , 0.        , 0.        , 0.        , 0.        ,\n",
       "       0.        , 0.        , 0.        , 0.        , 0.        ,\n",
       "       0.        , 0.        , 0.        , 0.        , 0.        ,\n",
       "       0.        , 0.        , 0.        , 0.        , 0.        ,\n",
       "       0.        , 0.        , 0.        , 0.        , 0.        ,\n",
       "       0.        , 0.        , 0.        , 0.        ], dtype=float32)"
      ]
     },
     "execution_count": 18,
     "metadata": {},
     "output_type": "execute_result"
    }
   ],
   "source": [
    "X_train[0]"
   ]
  },
  {
   "cell_type": "code",
   "execution_count": 20,
   "id": "f0cc6678",
   "metadata": {},
   "outputs": [],
   "source": [
    "import tensorflow as tf\n",
    "\n",
    "\n",
    "n_classes = 10\n",
    "y_train = tf.keras.utils.to_categorical(y_train, num_classes=n_classes)\n",
    "y_test = tf.keras.utils.to_categorical(y_test, num_classes=n_classes)"
   ]
  },
  {
   "cell_type": "code",
   "execution_count": 21,
   "id": "16ad40a5",
   "metadata": {},
   "outputs": [
    {
     "data": {
      "text/plain": [
       "(10000, 10)"
      ]
     },
     "execution_count": 21,
     "metadata": {},
     "output_type": "execute_result"
    }
   ],
   "source": [
    "y_test.shape"
   ]
  },
  {
   "cell_type": "code",
   "execution_count": 23,
   "id": "9897f75f",
   "metadata": {},
   "outputs": [
    {
     "data": {
      "text/plain": [
       "array([0., 0., 0., 0., 0., 0., 0., 1., 0., 0.], dtype=float32)"
      ]
     },
     "execution_count": 23,
     "metadata": {},
     "output_type": "execute_result"
    }
   ],
   "source": [
    "y_test[0] # It's 7 as shown above"
   ]
  },
  {
   "cell_type": "markdown",
   "id": "d8c6b4b7",
   "metadata": {},
   "source": [
    "#### Design Neural Network Architecture"
   ]
  },
  {
   "cell_type": "code",
   "execution_count": 24,
   "id": "9912bd40",
   "metadata": {},
   "outputs": [],
   "source": [
    "model = Sequential()\n",
    "model.add(Dense(64, activation='sigmoid', input_shape=(784,)))\n",
    "model.add(Dense(10, activation='softmax'))"
   ]
  },
  {
   "cell_type": "code",
   "execution_count": 25,
   "id": "de252b69",
   "metadata": {},
   "outputs": [
    {
     "name": "stdout",
     "output_type": "stream",
     "text": [
      "Model: \"sequential\"\n",
      "_________________________________________________________________\n",
      " Layer (type)                Output Shape              Param #   \n",
      "=================================================================\n",
      " dense (Dense)               (None, 64)                50240     \n",
      "                                                                 \n",
      " dense_1 (Dense)             (None, 10)                650       \n",
      "                                                                 \n",
      "=================================================================\n",
      "Total params: 50,890\n",
      "Trainable params: 50,890\n",
      "Non-trainable params: 0\n",
      "_________________________________________________________________\n"
     ]
    }
   ],
   "source": [
    "model.summary()"
   ]
  },
  {
   "cell_type": "markdown",
   "id": "187484c3",
   "metadata": {},
   "source": [
    "#### Understanding the parameters"
   ]
  },
  {
   "cell_type": "code",
   "execution_count": 26,
   "id": "9a7af5a5",
   "metadata": {},
   "outputs": [
    {
     "data": {
      "text/plain": [
       "50176"
      ]
     },
     "execution_count": 26,
     "metadata": {},
     "output_type": "execute_result"
    }
   ],
   "source": [
    "# We have in the input layer 784 neuons and in the hidden layer 64\n",
    "(64*784) "
   ]
  },
  {
   "cell_type": "code",
   "execution_count": 27,
   "id": "cce5d65e",
   "metadata": {},
   "outputs": [
    {
     "data": {
      "text/plain": [
       "50240"
      ]
     },
     "execution_count": 27,
     "metadata": {},
     "output_type": "execute_result"
    }
   ],
   "source": [
    "# We add the Bias of each neuron in the hidden layer\n",
    "(64*784)+64"
   ]
  },
  {
   "cell_type": "code",
   "execution_count": 28,
   "id": "b7c5591a",
   "metadata": {},
   "outputs": [
    {
     "data": {
      "text/plain": [
       "650"
      ]
     },
     "execution_count": 28,
     "metadata": {},
     "output_type": "execute_result"
    }
   ],
   "source": [
    "# For the output layer we have 10 neurons\n",
    "(10*64)+10"
   ]
  },
  {
   "cell_type": "code",
   "execution_count": 29,
   "id": "86d805ca",
   "metadata": {},
   "outputs": [
    {
     "data": {
      "text/plain": [
       "50890"
      ]
     },
     "execution_count": 29,
     "metadata": {},
     "output_type": "execute_result"
    }
   ],
   "source": [
    "# After aggregation, we got the nb 50890 of trainable params as shown in the summary\n",
    "50176+64+650"
   ]
  },
  {
   "cell_type": "markdown",
   "id": "7a5ac6ed",
   "metadata": {},
   "source": [
    "#### Configure Model"
   ]
  },
  {
   "cell_type": "code",
   "execution_count": 30,
   "id": "346d15b3",
   "metadata": {},
   "outputs": [],
   "source": [
    "model.compile(loss='mean_squared_error', optimizer=SGD(learning_rate=0.01), metrics=['accuracy'])"
   ]
  },
  {
   "cell_type": "markdown",
   "id": "bc07bbf9",
   "metadata": {},
   "source": [
    "#### Train the Model"
   ]
  },
  {
   "cell_type": "code",
   "execution_count": 31,
   "id": "4ffa1797",
   "metadata": {},
   "outputs": [
    {
     "name": "stdout",
     "output_type": "stream",
     "text": [
      "Epoch 1/200\n",
      "469/469 [==============================] - 2s 3ms/step - loss: 0.0913 - accuracy: 0.1020 - val_loss: 0.0910 - val_accuracy: 0.1044\n",
      "Epoch 2/200\n",
      "469/469 [==============================] - 1s 2ms/step - loss: 0.0909 - accuracy: 0.1106 - val_loss: 0.0906 - val_accuracy: 0.1138\n",
      "Epoch 3/200\n",
      "469/469 [==============================] - 1s 2ms/step - loss: 0.0905 - accuracy: 0.1245 - val_loss: 0.0903 - val_accuracy: 0.1321: 0s - loss: 0.0905 - accura\n",
      "Epoch 4/200\n",
      "469/469 [==============================] - 1s 2ms/step - loss: 0.0901 - accuracy: 0.1475 - val_loss: 0.0899 - val_accuracy: 0.1636\n",
      "Epoch 5/200\n",
      "469/469 [==============================] - 1s 2ms/step - loss: 0.0898 - accuracy: 0.1893 - val_loss: 0.0896 - val_accuracy: 0.2177\n",
      "Epoch 6/200\n",
      "469/469 [==============================] - 1s 2ms/step - loss: 0.0895 - accuracy: 0.2453 - val_loss: 0.0893 - val_accuracy: 0.2785\n",
      "Epoch 7/200\n",
      "469/469 [==============================] - 1s 3ms/step - loss: 0.0891 - accuracy: 0.2999 - val_loss: 0.0889 - val_accuracy: 0.3288\n",
      "Epoch 8/200\n",
      "469/469 [==============================] - 1s 3ms/step - loss: 0.0888 - accuracy: 0.3397 - val_loss: 0.0886 - val_accuracy: 0.3583\n",
      "Epoch 9/200\n",
      "469/469 [==============================] - 1s 3ms/step - loss: 0.0885 - accuracy: 0.3612 - val_loss: 0.0883 - val_accuracy: 0.3710\n",
      "Epoch 10/200\n",
      "469/469 [==============================] - 1s 2ms/step - loss: 0.0882 - accuracy: 0.3713 - val_loss: 0.0880 - val_accuracy: 0.3821\n",
      "Epoch 11/200\n",
      "469/469 [==============================] - 1s 3ms/step - loss: 0.0879 - accuracy: 0.3774 - val_loss: 0.0877 - val_accuracy: 0.3873\n",
      "Epoch 12/200\n",
      "469/469 [==============================] - 1s 2ms/step - loss: 0.0876 - accuracy: 0.3823 - val_loss: 0.0873 - val_accuracy: 0.3898\n",
      "Epoch 13/200\n",
      "469/469 [==============================] - 1s 2ms/step - loss: 0.0872 - accuracy: 0.3843 - val_loss: 0.0870 - val_accuracy: 0.3923\n",
      "Epoch 14/200\n",
      "469/469 [==============================] - 1s 3ms/step - loss: 0.0869 - accuracy: 0.3875 - val_loss: 0.0867 - val_accuracy: 0.3962\n",
      "Epoch 15/200\n",
      "469/469 [==============================] - 1s 3ms/step - loss: 0.0866 - accuracy: 0.3884 - val_loss: 0.0863 - val_accuracy: 0.3980\n",
      "Epoch 16/200\n",
      "469/469 [==============================] - 1s 2ms/step - loss: 0.0862 - accuracy: 0.3896 - val_loss: 0.0860 - val_accuracy: 0.3991\n",
      "Epoch 17/200\n",
      "469/469 [==============================] - 1s 2ms/step - loss: 0.0859 - accuracy: 0.3914 - val_loss: 0.0856 - val_accuracy: 0.4021\n",
      "Epoch 18/200\n",
      "469/469 [==============================] - 1s 2ms/step - loss: 0.0855 - accuracy: 0.3933 - val_loss: 0.0853 - val_accuracy: 0.4044\n",
      "Epoch 19/200\n",
      "469/469 [==============================] - 1s 2ms/step - loss: 0.0852 - accuracy: 0.3955 - val_loss: 0.0849 - val_accuracy: 0.4049\n",
      "Epoch 20/200\n",
      "469/469 [==============================] - 1s 2ms/step - loss: 0.0848 - accuracy: 0.3961 - val_loss: 0.0846 - val_accuracy: 0.4067\n",
      "Epoch 21/200\n",
      "469/469 [==============================] - 1s 2ms/step - loss: 0.0845 - accuracy: 0.3969 - val_loss: 0.0842 - val_accuracy: 0.4071\n",
      "Epoch 22/200\n",
      "469/469 [==============================] - ETA: 0s - loss: 0.0841 - accuracy: 0.39 - 1s 2ms/step - loss: 0.0841 - accuracy: 0.3977 - val_loss: 0.0838 - val_accuracy: 0.4073\n",
      "Epoch 23/200\n",
      "469/469 [==============================] - 1s 2ms/step - loss: 0.0837 - accuracy: 0.3998 - val_loss: 0.0834 - val_accuracy: 0.4090\n",
      "Epoch 24/200\n",
      "469/469 [==============================] - 1s 2ms/step - loss: 0.0833 - accuracy: 0.4016 - val_loss: 0.0830 - val_accuracy: 0.4103\n",
      "Epoch 25/200\n",
      "469/469 [==============================] - 1s 2ms/step - loss: 0.0829 - accuracy: 0.4030 - val_loss: 0.0826 - val_accuracy: 0.4122\n",
      "Epoch 26/200\n",
      "469/469 [==============================] - 1s 2ms/step - loss: 0.0825 - accuracy: 0.4047 - val_loss: 0.0822 - val_accuracy: 0.4138\n",
      "Epoch 27/200\n",
      "469/469 [==============================] - 1s 2ms/step - loss: 0.0821 - accuracy: 0.4065 - val_loss: 0.0818 - val_accuracy: 0.4151\n",
      "Epoch 28/200\n",
      "469/469 [==============================] - 1s 2ms/step - loss: 0.0817 - accuracy: 0.4086 - val_loss: 0.0813 - val_accuracy: 0.4167\n",
      "Epoch 29/200\n",
      "469/469 [==============================] - 1s 2ms/step - loss: 0.0812 - accuracy: 0.4112 - val_loss: 0.0809 - val_accuracy: 0.4190 0.0813 - accuracy: 0.40 - ETA: 0s - loss: 0.0813 - accuracy: 0.41\n",
      "Epoch 30/200\n",
      "469/469 [==============================] - 1s 2ms/step - loss: 0.0808 - accuracy: 0.4130 - val_loss: 0.0805 - val_accuracy: 0.4215\n",
      "Epoch 31/200\n",
      "469/469 [==============================] - 2s 4ms/step - loss: 0.0804 - accuracy: 0.4158 - val_loss: 0.0800 - val_accuracy: 0.4237\n",
      "Epoch 32/200\n",
      "469/469 [==============================] - 2s 4ms/step - loss: 0.0799 - accuracy: 0.4187 - val_loss: 0.0795 - val_accuracy: 0.4263\n",
      "Epoch 33/200\n",
      "469/469 [==============================] - 1s 3ms/step - loss: 0.0795 - accuracy: 0.4214 - val_loss: 0.0791 - val_accuracy: 0.4296\n",
      "Epoch 34/200\n",
      "469/469 [==============================] - 1s 2ms/step - loss: 0.0790 - accuracy: 0.4252 - val_loss: 0.0786 - val_accuracy: 0.4323\n",
      "Epoch 35/200\n",
      "469/469 [==============================] - 1s 2ms/step - loss: 0.0785 - accuracy: 0.4284 - val_loss: 0.0781 - val_accuracy: 0.4355\n",
      "Epoch 36/200\n",
      "469/469 [==============================] - 1s 3ms/step - loss: 0.0780 - accuracy: 0.4322 - val_loss: 0.0776 - val_accuracy: 0.4389\n",
      "Epoch 37/200\n",
      "469/469 [==============================] - 1s 2ms/step - loss: 0.0776 - accuracy: 0.4345 - val_loss: 0.0772 - val_accuracy: 0.4411\n",
      "Epoch 38/200\n",
      "469/469 [==============================] - ETA: 0s - loss: 0.0771 - accuracy: 0.43 - 1s 2ms/step - loss: 0.0771 - accuracy: 0.4375 - val_loss: 0.0767 - val_accuracy: 0.4444\n",
      "Epoch 39/200\n",
      "469/469 [==============================] - 1s 2ms/step - loss: 0.0766 - accuracy: 0.4415 - val_loss: 0.0762 - val_accuracy: 0.4489\n",
      "Epoch 40/200\n",
      "469/469 [==============================] - 1s 2ms/step - loss: 0.0761 - accuracy: 0.4448 - val_loss: 0.0757 - val_accuracy: 0.4517\n",
      "Epoch 41/200\n",
      "469/469 [==============================] - 1s 2ms/step - loss: 0.0756 - accuracy: 0.4484 - val_loss: 0.0752 - val_accuracy: 0.4553\n",
      "Epoch 42/200\n",
      "469/469 [==============================] - 1s 2ms/step - loss: 0.0751 - accuracy: 0.4520 - val_loss: 0.0747 - val_accuracy: 0.4593\n",
      "Epoch 43/200\n",
      "469/469 [==============================] - 1s 2ms/step - loss: 0.0746 - accuracy: 0.4562 - val_loss: 0.0742 - val_accuracy: 0.4623\n",
      "Epoch 44/200\n",
      "469/469 [==============================] - 1s 2ms/step - loss: 0.0741 - accuracy: 0.4608 - val_loss: 0.0737 - val_accuracy: 0.46701 - accuracy: \n",
      "Epoch 45/200\n",
      "469/469 [==============================] - 2s 3ms/step - loss: 0.0736 - accuracy: 0.4649 - val_loss: 0.0732 - val_accuracy: 0.4702\n",
      "Epoch 46/200\n",
      "469/469 [==============================] - 2s 3ms/step - loss: 0.0731 - accuracy: 0.4688 - val_loss: 0.0727 - val_accuracy: 0.4743\n",
      "Epoch 47/200\n",
      "469/469 [==============================] - 2s 3ms/step - loss: 0.0726 - accuracy: 0.4733 - val_loss: 0.0722 - val_accuracy: 0.4778\n",
      "Epoch 48/200\n",
      "469/469 [==============================] - 1s 3ms/step - loss: 0.0721 - accuracy: 0.4773 - val_loss: 0.0717 - val_accuracy: 0.4822\n",
      "Epoch 49/200\n",
      "469/469 [==============================] - 1s 2ms/step - loss: 0.0716 - accuracy: 0.4822 - val_loss: 0.0712 - val_accuracy: 0.4864\n",
      "Epoch 50/200\n",
      "469/469 [==============================] - 2s 3ms/step - loss: 0.0711 - accuracy: 0.4863 - val_loss: 0.0707 - val_accuracy: 0.4908\n",
      "Epoch 51/200\n",
      "469/469 [==============================] - 1s 3ms/step - loss: 0.0706 - accuracy: 0.4905 - val_loss: 0.0702 - val_accuracy: 0.4960\n",
      "Epoch 52/200\n",
      "469/469 [==============================] - 1s 2ms/step - loss: 0.0702 - accuracy: 0.4952 - val_loss: 0.0697 - val_accuracy: 0.5001\n",
      "Epoch 53/200\n",
      "469/469 [==============================] - 1s 2ms/step - loss: 0.0697 - accuracy: 0.5004 - val_loss: 0.0692 - val_accuracy: 0.5048\n",
      "Epoch 54/200\n",
      "469/469 [==============================] - 1s 2ms/step - loss: 0.0692 - accuracy: 0.5055 - val_loss: 0.0687 - val_accuracy: 0.5101\n",
      "Epoch 55/200\n",
      "469/469 [==============================] - 1s 2ms/step - loss: 0.0687 - accuracy: 0.5104 - val_loss: 0.0682 - val_accuracy: 0.5158\n",
      "Epoch 56/200\n"
     ]
    },
    {
     "name": "stdout",
     "output_type": "stream",
     "text": [
      "469/469 [==============================] - 1s 2ms/step - loss: 0.0682 - accuracy: 0.5155 - val_loss: 0.0677 - val_accuracy: 0.5207\n",
      "Epoch 57/200\n",
      "469/469 [==============================] - 1s 2ms/step - loss: 0.0677 - accuracy: 0.5217 - val_loss: 0.0672 - val_accuracy: 0.5270: 0s - loss: 0.0680 - accura\n",
      "Epoch 58/200\n",
      "469/469 [==============================] - 1s 2ms/step - loss: 0.0673 - accuracy: 0.5268 - val_loss: 0.0668 - val_accuracy: 0.5335\n",
      "Epoch 59/200\n",
      "469/469 [==============================] - 1s 2ms/step - loss: 0.0668 - accuracy: 0.5319 - val_loss: 0.0663 - val_accuracy: 0.5384\n",
      "Epoch 60/200\n",
      "469/469 [==============================] - 1s 2ms/step - loss: 0.0663 - accuracy: 0.5375 - val_loss: 0.0658 - val_accuracy: 0.5438\n",
      "Epoch 61/200\n",
      "469/469 [==============================] - 1s 2ms/step - loss: 0.0659 - accuracy: 0.5436 - val_loss: 0.0653 - val_accuracy: 0.5498\n",
      "Epoch 62/200\n",
      "469/469 [==============================] - 1s 2ms/step - loss: 0.0654 - accuracy: 0.5503 - val_loss: 0.0649 - val_accuracy: 0.5558\n",
      "Epoch 63/200\n",
      "469/469 [==============================] - 1s 2ms/step - loss: 0.0649 - accuracy: 0.5560 - val_loss: 0.0644 - val_accuracy: 0.5612\n",
      "Epoch 64/200\n",
      "469/469 [==============================] - 1s 2ms/step - loss: 0.0645 - accuracy: 0.5621 - val_loss: 0.0640 - val_accuracy: 0.5665\n",
      "Epoch 65/200\n",
      "469/469 [==============================] - 1s 2ms/step - loss: 0.0640 - accuracy: 0.5686 - val_loss: 0.0635 - val_accuracy: 0.5727\n",
      "Epoch 66/200\n",
      "469/469 [==============================] - 1s 2ms/step - loss: 0.0636 - accuracy: 0.5746 - val_loss: 0.0630 - val_accuracy: 0.5793\n",
      "Epoch 67/200\n",
      "469/469 [==============================] - 1s 2ms/step - loss: 0.0631 - accuracy: 0.5801 - val_loss: 0.0626 - val_accuracy: 0.5863\n",
      "Epoch 68/200\n",
      "469/469 [==============================] - 1s 2ms/step - loss: 0.0627 - accuracy: 0.5865 - val_loss: 0.0621 - val_accuracy: 0.5916.0627 - accuracy: 0.58\n",
      "Epoch 69/200\n",
      "469/469 [==============================] - 1s 2ms/step - loss: 0.0623 - accuracy: 0.5917 - val_loss: 0.0617 - val_accuracy: 0.5980\n",
      "Epoch 70/200\n",
      "469/469 [==============================] - 1s 2ms/step - loss: 0.0618 - accuracy: 0.5978 - val_loss: 0.0613 - val_accuracy: 0.6029\n",
      "Epoch 71/200\n",
      "469/469 [==============================] - 1s 3ms/step - loss: 0.0614 - accuracy: 0.6028 - val_loss: 0.0608 - val_accuracy: 0.6095\n",
      "Epoch 72/200\n",
      "469/469 [==============================] - 1s 2ms/step - loss: 0.0610 - accuracy: 0.6080 - val_loss: 0.0604 - val_accuracy: 0.6146\n",
      "Epoch 73/200\n",
      "469/469 [==============================] - 1s 2ms/step - loss: 0.0605 - accuracy: 0.6135 - val_loss: 0.0600 - val_accuracy: 0.6203.0606 - accuracy: 0.61 - ETA: 0s - loss: 0.0606 - \n",
      "Epoch 74/200\n",
      "469/469 [==============================] - 1s 2ms/step - loss: 0.0601 - accuracy: 0.6192 - val_loss: 0.0595 - val_accuracy: 0.6261\n",
      "Epoch 75/200\n",
      "469/469 [==============================] - 1s 2ms/step - loss: 0.0597 - accuracy: 0.6237 - val_loss: 0.0591 - val_accuracy: 0.6306\n",
      "Epoch 76/200\n",
      "469/469 [==============================] - 1s 2ms/step - loss: 0.0593 - accuracy: 0.6283 - val_loss: 0.0587 - val_accuracy: 0.6360\n",
      "Epoch 77/200\n",
      "469/469 [==============================] - 1s 2ms/step - loss: 0.0589 - accuracy: 0.6328 - val_loss: 0.0583 - val_accuracy: 0.6408\n",
      "Epoch 78/200\n",
      "469/469 [==============================] - 1s 2ms/step - loss: 0.0585 - accuracy: 0.6378 - val_loss: 0.0578 - val_accuracy: 0.6458\n",
      "Epoch 79/200\n",
      "469/469 [==============================] - 1s 2ms/step - loss: 0.0580 - accuracy: 0.6423 - val_loss: 0.0574 - val_accuracy: 0.6503\n",
      "Epoch 80/200\n",
      "469/469 [==============================] - 1s 2ms/step - loss: 0.0576 - accuracy: 0.6461 - val_loss: 0.0570 - val_accuracy: 0.6556\n",
      "Epoch 81/200\n",
      "469/469 [==============================] - 1s 2ms/step - loss: 0.0572 - accuracy: 0.6501 - val_loss: 0.0566 - val_accuracy: 0.6587\n",
      "Epoch 82/200\n",
      "469/469 [==============================] - 1s 2ms/step - loss: 0.0568 - accuracy: 0.6547 - val_loss: 0.0562 - val_accuracy: 0.6628\n",
      "Epoch 83/200\n",
      "469/469 [==============================] - 1s 2ms/step - loss: 0.0564 - accuracy: 0.6580 - val_loss: 0.0558 - val_accuracy: 0.6666\n",
      "Epoch 84/200\n",
      "469/469 [==============================] - 1s 2ms/step - loss: 0.0560 - accuracy: 0.6619 - val_loss: 0.0554 - val_accuracy: 0.6723\n",
      "Epoch 85/200\n",
      "469/469 [==============================] - 1s 2ms/step - loss: 0.0556 - accuracy: 0.6661 - val_loss: 0.0550 - val_accuracy: 0.6755\n",
      "Epoch 86/200\n",
      "469/469 [==============================] - 1s 2ms/step - loss: 0.0553 - accuracy: 0.6701 - val_loss: 0.0546 - val_accuracy: 0.6787\n",
      "Epoch 87/200\n",
      "469/469 [==============================] - 1s 2ms/step - loss: 0.0549 - accuracy: 0.6736 - val_loss: 0.0542 - val_accuracy: 0.6822\n",
      "Epoch 88/200\n",
      "469/469 [==============================] - 1s 2ms/step - loss: 0.0545 - accuracy: 0.6775 - val_loss: 0.0538 - val_accuracy: 0.6848\n",
      "Epoch 89/200\n",
      "469/469 [==============================] - 1s 2ms/step - loss: 0.0541 - accuracy: 0.6804 - val_loss: 0.0534 - val_accuracy: 0.6891\n",
      "Epoch 90/200\n",
      "469/469 [==============================] - 1s 2ms/step - loss: 0.0537 - accuracy: 0.6841 - val_loss: 0.0530 - val_accuracy: 0.6922\n",
      "Epoch 91/200\n",
      "469/469 [==============================] - 1s 2ms/step - loss: 0.0533 - accuracy: 0.6871 - val_loss: 0.0527 - val_accuracy: 0.6952\n",
      "Epoch 92/200\n",
      "469/469 [==============================] - 1s 2ms/step - loss: 0.0530 - accuracy: 0.6911 - val_loss: 0.0523 - val_accuracy: 0.6988 loss: 0.0530 - accuracy: 0.69\n",
      "Epoch 93/200\n",
      "469/469 [==============================] - 1s 2ms/step - loss: 0.0526 - accuracy: 0.6936 - val_loss: 0.0519 - val_accuracy: 0.7029\n",
      "Epoch 94/200\n",
      "469/469 [==============================] - 1s 3ms/step - loss: 0.0522 - accuracy: 0.6982 - val_loss: 0.0515 - val_accuracy: 0.7063\n",
      "Epoch 95/200\n",
      "469/469 [==============================] - 2s 3ms/step - loss: 0.0519 - accuracy: 0.7012 - val_loss: 0.0512 - val_accuracy: 0.7082\n",
      "Epoch 96/200\n",
      "469/469 [==============================] - 1s 3ms/step - loss: 0.0515 - accuracy: 0.7041 - val_loss: 0.0508 - val_accuracy: 0.7113\n",
      "Epoch 97/200\n",
      "469/469 [==============================] - 1s 2ms/step - loss: 0.0511 - accuracy: 0.7073 - val_loss: 0.0504 - val_accuracy: 0.7145\n",
      "Epoch 98/200\n",
      "469/469 [==============================] - 1s 2ms/step - loss: 0.0508 - accuracy: 0.7100 - val_loss: 0.0501 - val_accuracy: 0.7190\n",
      "Epoch 99/200\n",
      "469/469 [==============================] - 1s 2ms/step - loss: 0.0504 - accuracy: 0.7135 - val_loss: 0.0497 - val_accuracy: 0.7214\n",
      "Epoch 100/200\n",
      "469/469 [==============================] - 1s 2ms/step - loss: 0.0501 - accuracy: 0.7160 - val_loss: 0.0494 - val_accuracy: 0.7235\n",
      "Epoch 101/200\n",
      "469/469 [==============================] - 1s 2ms/step - loss: 0.0497 - accuracy: 0.7187 - val_loss: 0.0490 - val_accuracy: 0.7261\n",
      "Epoch 102/200\n",
      "469/469 [==============================] - 1s 2ms/step - loss: 0.0494 - accuracy: 0.7208 - val_loss: 0.0487 - val_accuracy: 0.7292\n",
      "Epoch 103/200\n",
      "469/469 [==============================] - 1s 2ms/step - loss: 0.0491 - accuracy: 0.7234 - val_loss: 0.0483 - val_accuracy: 0.7317\n",
      "Epoch 104/200\n",
      "469/469 [==============================] - 1s 2ms/step - loss: 0.0487 - accuracy: 0.7260 - val_loss: 0.0480 - val_accuracy: 0.7343\n",
      "Epoch 105/200\n",
      "469/469 [==============================] - 1s 2ms/step - loss: 0.0484 - accuracy: 0.7286 - val_loss: 0.0476 - val_accuracy: 0.7358\n",
      "Epoch 106/200\n",
      "469/469 [==============================] - 1s 2ms/step - loss: 0.0481 - accuracy: 0.7308 - val_loss: 0.0473 - val_accuracy: 0.7386\n",
      "Epoch 107/200\n",
      "469/469 [==============================] - 1s 2ms/step - loss: 0.0477 - accuracy: 0.7330 - val_loss: 0.0470 - val_accuracy: 0.7421\n",
      "Epoch 108/200\n",
      "469/469 [==============================] - 1s 2ms/step - loss: 0.0474 - accuracy: 0.7359 - val_loss: 0.0467 - val_accuracy: 0.7437\n",
      "Epoch 109/200\n",
      "469/469 [==============================] - 1s 2ms/step - loss: 0.0471 - accuracy: 0.7385 - val_loss: 0.0463 - val_accuracy: 0.7454 loss: 0.0473 \n",
      "Epoch 110/200\n",
      "469/469 [==============================] - 1s 2ms/step - loss: 0.0468 - accuracy: 0.7403 - val_loss: 0.0460 - val_accuracy: 0.7478\n",
      "Epoch 111/200\n"
     ]
    },
    {
     "name": "stdout",
     "output_type": "stream",
     "text": [
      "469/469 [==============================] - 1s 2ms/step - loss: 0.0465 - accuracy: 0.7422 - val_loss: 0.0457 - val_accuracy: 0.7503\n",
      "Epoch 112/200\n",
      "469/469 [==============================] - 1s 2ms/step - loss: 0.0462 - accuracy: 0.7441 - val_loss: 0.0454 - val_accuracy: 0.7524\n",
      "Epoch 113/200\n",
      "469/469 [==============================] - 1s 2ms/step - loss: 0.0459 - accuracy: 0.7465 - val_loss: 0.0451 - val_accuracy: 0.7545\n",
      "Epoch 114/200\n",
      "469/469 [==============================] - 1s 2ms/step - loss: 0.0456 - accuracy: 0.7481 - val_loss: 0.0448 - val_accuracy: 0.7576\n",
      "Epoch 115/200\n",
      "469/469 [==============================] - 1s 2ms/step - loss: 0.0453 - accuracy: 0.7502 - val_loss: 0.0445 - val_accuracy: 0.7605\n",
      "Epoch 116/200\n",
      "469/469 [==============================] - 1s 2ms/step - loss: 0.0450 - accuracy: 0.7521 - val_loss: 0.0442 - val_accuracy: 0.7623\n",
      "Epoch 117/200\n",
      "469/469 [==============================] - 1s 2ms/step - loss: 0.0447 - accuracy: 0.7540 - val_loss: 0.0439 - val_accuracy: 0.7641\n",
      "Epoch 118/200\n",
      "469/469 [==============================] - 1s 2ms/step - loss: 0.0444 - accuracy: 0.7556 - val_loss: 0.0436 - val_accuracy: 0.7655\n",
      "Epoch 119/200\n",
      "469/469 [==============================] - 1s 2ms/step - loss: 0.0441 - accuracy: 0.7575 - val_loss: 0.0433 - val_accuracy: 0.7669\n",
      "Epoch 120/200\n",
      "469/469 [==============================] - 1s 2ms/step - loss: 0.0438 - accuracy: 0.7585 - val_loss: 0.0430 - val_accuracy: 0.7690\n",
      "Epoch 121/200\n",
      "469/469 [==============================] - 1s 2ms/step - loss: 0.0435 - accuracy: 0.7612 - val_loss: 0.0427 - val_accuracy: 0.7706\n",
      "Epoch 122/200\n",
      "469/469 [==============================] - 1s 2ms/step - loss: 0.0432 - accuracy: 0.7633 - val_loss: 0.0424 - val_accuracy: 0.7728\n",
      "Epoch 123/200\n",
      "469/469 [==============================] - 1s 2ms/step - loss: 0.0430 - accuracy: 0.7650 - val_loss: 0.0421 - val_accuracy: 0.7745\n",
      "Epoch 124/200\n",
      "469/469 [==============================] - 1s 2ms/step - loss: 0.0427 - accuracy: 0.7668 - val_loss: 0.0419 - val_accuracy: 0.7769\n",
      "Epoch 125/200\n",
      "469/469 [==============================] - 1s 2ms/step - loss: 0.0424 - accuracy: 0.7687 - val_loss: 0.0416 - val_accuracy: 0.7789\n",
      "Epoch 126/200\n",
      "469/469 [==============================] - 1s 2ms/step - loss: 0.0422 - accuracy: 0.7707 - val_loss: 0.0413 - val_accuracy: 0.7804\n",
      "Epoch 127/200\n",
      "469/469 [==============================] - 1s 2ms/step - loss: 0.0419 - accuracy: 0.7721 - val_loss: 0.0410 - val_accuracy: 0.7820\n",
      "Epoch 128/200\n",
      "469/469 [==============================] - 1s 2ms/step - loss: 0.0416 - accuracy: 0.7743 - val_loss: 0.0408 - val_accuracy: 0.7838\n",
      "Epoch 129/200\n",
      "469/469 [==============================] - 1s 2ms/step - loss: 0.0414 - accuracy: 0.7764 - val_loss: 0.0405 - val_accuracy: 0.7858\n",
      "Epoch 130/200\n",
      "469/469 [==============================] - 1s 2ms/step - loss: 0.0411 - accuracy: 0.7786 - val_loss: 0.0403 - val_accuracy: 0.7873\n",
      "Epoch 131/200\n",
      "469/469 [==============================] - ETA: 0s - loss: 0.0409 - accuracy: 0.78 - 1s 2ms/step - loss: 0.0409 - accuracy: 0.7804 - val_loss: 0.0400 - val_accuracy: 0.7899\n",
      "Epoch 132/200\n",
      "469/469 [==============================] - 1s 2ms/step - loss: 0.0406 - accuracy: 0.7826 - val_loss: 0.0397 - val_accuracy: 0.7917\n",
      "Epoch 133/200\n",
      "469/469 [==============================] - 1s 2ms/step - loss: 0.0404 - accuracy: 0.7846 - val_loss: 0.0395 - val_accuracy: 0.7937\n",
      "Epoch 134/200\n",
      "469/469 [==============================] - 1s 2ms/step - loss: 0.0401 - accuracy: 0.7865 - val_loss: 0.0392 - val_accuracy: 0.7953\n",
      "Epoch 135/200\n",
      "469/469 [==============================] - 1s 2ms/step - loss: 0.0399 - accuracy: 0.7883 - val_loss: 0.0390 - val_accuracy: 0.7971\n",
      "Epoch 136/200\n",
      "469/469 [==============================] - 1s 3ms/step - loss: 0.0396 - accuracy: 0.7904 - val_loss: 0.0388 - val_accuracy: 0.7994\n",
      "Epoch 137/200\n",
      "469/469 [==============================] - 1s 2ms/step - loss: 0.0394 - accuracy: 0.7923 - val_loss: 0.0385 - val_accuracy: 0.8012\n",
      "Epoch 138/200\n",
      "469/469 [==============================] - 1s 2ms/step - loss: 0.0392 - accuracy: 0.7946 - val_loss: 0.0383 - val_accuracy: 0.8028\n",
      "Epoch 139/200\n",
      "469/469 [==============================] - 1s 2ms/step - loss: 0.0389 - accuracy: 0.7965 - val_loss: 0.0380 - val_accuracy: 0.8047\n",
      "Epoch 140/200\n",
      "469/469 [==============================] - 1s 2ms/step - loss: 0.0387 - accuracy: 0.7982 - val_loss: 0.0378 - val_accuracy: 0.8063\n",
      "Epoch 141/200\n",
      "469/469 [==============================] - 1s 2ms/step - loss: 0.0385 - accuracy: 0.8005 - val_loss: 0.0376 - val_accuracy: 0.8085\n",
      "Epoch 142/200\n",
      "469/469 [==============================] - 1s 2ms/step - loss: 0.0382 - accuracy: 0.8020 - val_loss: 0.0374 - val_accuracy: 0.8092\n",
      "Epoch 143/200\n",
      "469/469 [==============================] - 1s 2ms/step - loss: 0.0380 - accuracy: 0.8040 - val_loss: 0.0371 - val_accuracy: 0.8110\n",
      "Epoch 144/200\n",
      "469/469 [==============================] - 1s 2ms/step - loss: 0.0378 - accuracy: 0.8055 - val_loss: 0.0369 - val_accuracy: 0.8122\n",
      "Epoch 145/200\n",
      "469/469 [==============================] - 1s 2ms/step - loss: 0.0376 - accuracy: 0.8074 - val_loss: 0.0367 - val_accuracy: 0.8147\n",
      "Epoch 146/200\n",
      "469/469 [==============================] - 1s 2ms/step - loss: 0.0374 - accuracy: 0.8094 - val_loss: 0.0365 - val_accuracy: 0.8164\n",
      "Epoch 147/200\n",
      "469/469 [==============================] - 1s 2ms/step - loss: 0.0372 - accuracy: 0.8106 - val_loss: 0.0362 - val_accuracy: 0.8182\n",
      "Epoch 148/200\n",
      "469/469 [==============================] - 1s 3ms/step - loss: 0.0369 - accuracy: 0.8123 - val_loss: 0.0360 - val_accuracy: 0.8199\n",
      "Epoch 149/200\n",
      "469/469 [==============================] - 1s 3ms/step - loss: 0.0367 - accuracy: 0.8138 - val_loss: 0.0358 - val_accuracy: 0.8217\n",
      "Epoch 150/200\n",
      "469/469 [==============================] - 1s 2ms/step - loss: 0.0365 - accuracy: 0.8148 - val_loss: 0.0356 - val_accuracy: 0.8234\n",
      "Epoch 151/200\n",
      "469/469 [==============================] - 1s 2ms/step - loss: 0.0363 - accuracy: 0.8164 - val_loss: 0.0354 - val_accuracy: 0.8248\n",
      "Epoch 152/200\n",
      "469/469 [==============================] - 1s 2ms/step - loss: 0.0361 - accuracy: 0.8179 - val_loss: 0.0352 - val_accuracy: 0.8259\n",
      "Epoch 153/200\n",
      "469/469 [==============================] - 1s 2ms/step - loss: 0.0359 - accuracy: 0.8189 - val_loss: 0.0350 - val_accuracy: 0.8272\n",
      "Epoch 154/200\n",
      "469/469 [==============================] - 1s 2ms/step - loss: 0.0357 - accuracy: 0.8200 - val_loss: 0.0348 - val_accuracy: 0.8286\n",
      "Epoch 155/200\n",
      "469/469 [==============================] - 1s 2ms/step - loss: 0.0355 - accuracy: 0.8214 - val_loss: 0.0346 - val_accuracy: 0.8302\n",
      "Epoch 156/200\n",
      "469/469 [==============================] - ETA: 0s - loss: 0.0353 - accuracy: 0.82 - 1s 2ms/step - loss: 0.0353 - accuracy: 0.8226 - val_loss: 0.0344 - val_accuracy: 0.8315\n",
      "Epoch 157/200\n",
      "469/469 [==============================] - 1s 2ms/step - loss: 0.0351 - accuracy: 0.8238 - val_loss: 0.0342 - val_accuracy: 0.8326\n",
      "Epoch 158/200\n",
      "469/469 [==============================] - 1s 2ms/step - loss: 0.0350 - accuracy: 0.8249 - val_loss: 0.0340 - val_accuracy: 0.8333\n",
      "Epoch 159/200\n",
      "469/469 [==============================] - 1s 2ms/step - loss: 0.0348 - accuracy: 0.8258 - val_loss: 0.0338 - val_accuracy: 0.8343\n",
      "Epoch 160/200\n",
      "469/469 [==============================] - 1s 2ms/step - loss: 0.0346 - accuracy: 0.8272 - val_loss: 0.0337 - val_accuracy: 0.8351\n",
      "Epoch 161/200\n",
      "469/469 [==============================] - 1s 2ms/step - loss: 0.0344 - accuracy: 0.8281 - val_loss: 0.0335 - val_accuracy: 0.8356\n",
      "Epoch 162/200\n",
      "469/469 [==============================] - 1s 2ms/step - loss: 0.0342 - accuracy: 0.8289 - val_loss: 0.0333 - val_accuracy: 0.8365\n",
      "Epoch 163/200\n",
      "469/469 [==============================] - 1s 2ms/step - loss: 0.0341 - accuracy: 0.8300 - val_loss: 0.0331 - val_accuracy: 0.8378\n",
      "Epoch 164/200\n",
      "469/469 [==============================] - 1s 2ms/step - loss: 0.0339 - accuracy: 0.8308 - val_loss: 0.0329 - val_accuracy: 0.8388\n",
      "Epoch 165/200\n",
      "469/469 [==============================] - 1s 3ms/step - loss: 0.0337 - accuracy: 0.8318 - val_loss: 0.0328 - val_accuracy: 0.8398\n",
      "Epoch 166/200\n",
      "469/469 [==============================] - 1s 2ms/step - loss: 0.0335 - accuracy: 0.8330 - val_loss: 0.0326 - val_accuracy: 0.8400\n",
      "Epoch 167/200\n"
     ]
    },
    {
     "name": "stdout",
     "output_type": "stream",
     "text": [
      "469/469 [==============================] - 1s 3ms/step - loss: 0.0334 - accuracy: 0.8339 - val_loss: 0.0324 - val_accuracy: 0.8407\n",
      "Epoch 168/200\n",
      "469/469 [==============================] - 1s 2ms/step - loss: 0.0332 - accuracy: 0.8347 - val_loss: 0.0323 - val_accuracy: 0.8416\n",
      "Epoch 169/200\n",
      "469/469 [==============================] - 1s 2ms/step - loss: 0.0330 - accuracy: 0.8353 - val_loss: 0.0321 - val_accuracy: 0.8428\n",
      "Epoch 170/200\n",
      "469/469 [==============================] - 1s 2ms/step - loss: 0.0329 - accuracy: 0.8364 - val_loss: 0.0319 - val_accuracy: 0.8440\n",
      "Epoch 171/200\n",
      "469/469 [==============================] - 1s 2ms/step - loss: 0.0327 - accuracy: 0.8369 - val_loss: 0.0318 - val_accuracy: 0.8449\n",
      "Epoch 172/200\n",
      "469/469 [==============================] - 1s 2ms/step - loss: 0.0325 - accuracy: 0.8378 - val_loss: 0.0316 - val_accuracy: 0.8457\n",
      "Epoch 173/200\n",
      "469/469 [==============================] - 1s 2ms/step - loss: 0.0324 - accuracy: 0.8384 - val_loss: 0.0314 - val_accuracy: 0.8464\n",
      "Epoch 174/200\n",
      "469/469 [==============================] - 1s 2ms/step - loss: 0.0322 - accuracy: 0.8393 - val_loss: 0.0313 - val_accuracy: 0.8469\n",
      "Epoch 175/200\n",
      "469/469 [==============================] - 1s 3ms/step - loss: 0.0321 - accuracy: 0.8402 - val_loss: 0.0311 - val_accuracy: 0.8475\n",
      "Epoch 176/200\n",
      "469/469 [==============================] - 1s 2ms/step - loss: 0.0319 - accuracy: 0.8406 - val_loss: 0.0310 - val_accuracy: 0.8484\n",
      "Epoch 177/200\n",
      "469/469 [==============================] - 1s 2ms/step - loss: 0.0318 - accuracy: 0.8419 - val_loss: 0.0308 - val_accuracy: 0.8494\n",
      "Epoch 178/200\n",
      "469/469 [==============================] - 1s 2ms/step - loss: 0.0316 - accuracy: 0.8424 - val_loss: 0.0307 - val_accuracy: 0.8503\n",
      "Epoch 179/200\n",
      "469/469 [==============================] - 1s 2ms/step - loss: 0.0315 - accuracy: 0.8430 - val_loss: 0.0305 - val_accuracy: 0.8512\n",
      "Epoch 180/200\n",
      "469/469 [==============================] - 1s 2ms/step - loss: 0.0313 - accuracy: 0.8437 - val_loss: 0.0304 - val_accuracy: 0.8517\n",
      "Epoch 181/200\n",
      "469/469 [==============================] - 1s 2ms/step - loss: 0.0312 - accuracy: 0.8444 - val_loss: 0.0302 - val_accuracy: 0.8522\n",
      "Epoch 182/200\n",
      "469/469 [==============================] - 1s 2ms/step - loss: 0.0311 - accuracy: 0.8449 - val_loss: 0.0301 - val_accuracy: 0.8529\n",
      "Epoch 183/200\n",
      "469/469 [==============================] - 1s 2ms/step - loss: 0.0309 - accuracy: 0.8454 - val_loss: 0.0300 - val_accuracy: 0.8528\n",
      "Epoch 184/200\n",
      "469/469 [==============================] - 1s 3ms/step - loss: 0.0308 - accuracy: 0.8460 - val_loss: 0.0298 - val_accuracy: 0.8535\n",
      "Epoch 185/200\n",
      "469/469 [==============================] - 1s 2ms/step - loss: 0.0306 - accuracy: 0.8465 - val_loss: 0.0297 - val_accuracy: 0.8542\n",
      "Epoch 186/200\n",
      "469/469 [==============================] - 1s 2ms/step - loss: 0.0305 - accuracy: 0.8471 - val_loss: 0.0295 - val_accuracy: 0.8549\n",
      "Epoch 187/200\n",
      "469/469 [==============================] - 1s 2ms/step - loss: 0.0304 - accuracy: 0.8476 - val_loss: 0.0294 - val_accuracy: 0.8556\n",
      "Epoch 188/200\n",
      "469/469 [==============================] - 1s 3ms/step - loss: 0.0303 - accuracy: 0.8481 - val_loss: 0.0293 - val_accuracy: 0.8559\n",
      "Epoch 189/200\n",
      "469/469 [==============================] - 1s 2ms/step - loss: 0.0301 - accuracy: 0.8486 - val_loss: 0.0291 - val_accuracy: 0.8567\n",
      "Epoch 190/200\n",
      "469/469 [==============================] - 1s 2ms/step - loss: 0.0300 - accuracy: 0.8492 - val_loss: 0.0290 - val_accuracy: 0.8571\n",
      "Epoch 191/200\n",
      "469/469 [==============================] - 1s 2ms/step - loss: 0.0299 - accuracy: 0.8495 - val_loss: 0.0289 - val_accuracy: 0.8576\n",
      "Epoch 192/200\n",
      "469/469 [==============================] - 1s 3ms/step - loss: 0.0297 - accuracy: 0.8503 - val_loss: 0.0288 - val_accuracy: 0.8581\n",
      "Epoch 193/200\n",
      "469/469 [==============================] - 1s 2ms/step - loss: 0.0296 - accuracy: 0.8505 - val_loss: 0.0286 - val_accuracy: 0.8583\n",
      "Epoch 194/200\n",
      "469/469 [==============================] - 1s 2ms/step - loss: 0.0295 - accuracy: 0.8509 - val_loss: 0.0285 - val_accuracy: 0.8587\n",
      "Epoch 195/200\n",
      "469/469 [==============================] - 1s 2ms/step - loss: 0.0294 - accuracy: 0.8514 - val_loss: 0.0284 - val_accuracy: 0.8599\n",
      "Epoch 196/200\n",
      "469/469 [==============================] - 1s 2ms/step - loss: 0.0293 - accuracy: 0.8518 - val_loss: 0.0283 - val_accuracy: 0.8607\n",
      "Epoch 197/200\n",
      "469/469 [==============================] - 1s 2ms/step - loss: 0.0291 - accuracy: 0.8523 - val_loss: 0.0282 - val_accuracy: 0.8611\n",
      "Epoch 198/200\n",
      "469/469 [==============================] - 1s 2ms/step - loss: 0.0290 - accuracy: 0.8529 - val_loss: 0.0280 - val_accuracy: 0.8614\n",
      "Epoch 199/200\n",
      "469/469 [==============================] - 1s 2ms/step - loss: 0.0289 - accuracy: 0.8531 - val_loss: 0.0279 - val_accuracy: 0.8617\n",
      "Epoch 200/200\n",
      "469/469 [==============================] - 1s 2ms/step - loss: 0.0288 - accuracy: 0.8535 - val_loss: 0.0278 - val_accuracy: 0.8619\n"
     ]
    },
    {
     "data": {
      "text/plain": [
       "<keras.callbacks.History at 0x271a16c14c0>"
      ]
     },
     "execution_count": 31,
     "metadata": {},
     "output_type": "execute_result"
    }
   ],
   "source": [
    "model.fit(X_train, y_train, batch_size=128, epochs=200, verbose=1, validation_data=(X_test, y_test))"
   ]
  },
  {
   "cell_type": "code",
   "execution_count": 32,
   "id": "234f6685",
   "metadata": {},
   "outputs": [
    {
     "name": "stdout",
     "output_type": "stream",
     "text": [
      "313/313 [==============================] - 0s 1ms/step - loss: 0.0278 - accuracy: 0.8619\n"
     ]
    },
    {
     "data": {
      "text/plain": [
       "[0.02781844139099121, 0.8618999719619751]"
      ]
     },
     "execution_count": 32,
     "metadata": {},
     "output_type": "execute_result"
    }
   ],
   "source": [
    "model.evaluate(X_test, y_test)"
   ]
  }
 ],
 "metadata": {
  "kernelspec": {
   "display_name": "Python 3 (ipykernel)",
   "language": "python",
   "name": "python3"
  },
  "language_info": {
   "codemirror_mode": {
    "name": "ipython",
    "version": 3
   },
   "file_extension": ".py",
   "mimetype": "text/x-python",
   "name": "python",
   "nbconvert_exporter": "python",
   "pygments_lexer": "ipython3",
   "version": "3.9.7"
  }
 },
 "nbformat": 4,
 "nbformat_minor": 5
}
