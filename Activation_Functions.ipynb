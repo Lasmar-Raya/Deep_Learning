{
 "cells": [
  {
   "cell_type": "markdown",
   "id": "c667f669",
   "metadata": {},
   "source": [
    "## Sigmoid function"
   ]
  },
  {
   "cell_type": "code",
   "execution_count": 1,
   "id": "97a0998f",
   "metadata": {},
   "outputs": [],
   "source": [
    "from math import e"
   ]
  },
  {
   "cell_type": "code",
   "execution_count": 3,
   "id": "97f383da",
   "metadata": {},
   "outputs": [],
   "source": [
    "def sigmoid(z):\n",
    "    return (1/(1+e**-z))"
   ]
  },
  {
   "cell_type": "code",
   "execution_count": 4,
   "id": "7c0fdeb8",
   "metadata": {},
   "outputs": [
    {
     "data": {
      "text/plain": [
       "0.5000249999999792"
      ]
     },
     "execution_count": 4,
     "metadata": {},
     "output_type": "execute_result"
    }
   ],
   "source": [
    "sigmoid(.0001)"
   ]
  },
  {
   "cell_type": "code",
   "execution_count": 5,
   "id": "86df5e00",
   "metadata": {},
   "outputs": [
    {
     "data": {
      "text/plain": [
       "1.0"
      ]
     },
     "execution_count": 5,
     "metadata": {},
     "output_type": "execute_result"
    }
   ],
   "source": [
    "sigmoid(100000)"
   ]
  },
  {
   "cell_type": "code",
   "execution_count": 7,
   "id": "beeeb626",
   "metadata": {},
   "outputs": [
    {
     "data": {
      "text/plain": [
       "3.7200759760208555e-44"
      ]
     },
     "execution_count": 7,
     "metadata": {},
     "output_type": "execute_result"
    }
   ],
   "source": [
    "sigmoid(-100)"
   ]
  },
  {
   "cell_type": "markdown",
   "id": "eb1e217c",
   "metadata": {},
   "source": [
    "## Softmax function"
   ]
  },
  {
   "cell_type": "markdown",
   "id": "b0d3cd0b",
   "metadata": {},
   "source": [
    "* Suppose we have three classes in the output \n",
    "* After calculating the z value for each output we get these values (z=w.x+b)"
   ]
  },
  {
   "cell_type": "markdown",
   "id": "c0a1e1e5",
   "metadata": {},
   "source": [
    "#### First Step: Calculate the exp of each output"
   ]
  },
  {
   "cell_type": "code",
   "execution_count": 21,
   "id": "a117ea21",
   "metadata": {
    "scrolled": true
   },
   "outputs": [
    {
     "name": "stdout",
     "output_type": "stream",
     "text": [
      "0.36787944117144233\n",
      "2.718281828459045\n",
      "148.4131591025766\n"
     ]
    }
   ],
   "source": [
    "from math import exp\n",
    "\n",
    "z = [-1, 1, 5]\n",
    "\n",
    "for i in z:\n",
    "    print(exp(i))\n"
   ]
  },
  {
   "cell_type": "markdown",
   "id": "62d35585",
   "metadata": {},
   "source": [
    "#### Second Step: Sum up the exponentials"
   ]
  },
  {
   "cell_type": "code",
   "execution_count": 22,
   "id": "53f3b7a7",
   "metadata": {},
   "outputs": [
    {
     "data": {
      "text/plain": [
       "151.49932037220708"
      ]
     },
     "execution_count": 22,
     "metadata": {},
     "output_type": "execute_result"
    }
   ],
   "source": [
    "total = sum(exp(i) for i in z)\n",
    "total"
   ]
  },
  {
   "cell_type": "markdown",
   "id": "e3568dd2",
   "metadata": {},
   "source": [
    "#### Third Step: Calculate the proportion for each class"
   ]
  },
  {
   "cell_type": "code",
   "execution_count": 24,
   "id": "1914880e",
   "metadata": {},
   "outputs": [
    {
     "name": "stdout",
     "output_type": "stream",
     "text": [
      "0.24282580295913375\n",
      "1.7942534803329195\n",
      "97.96292071670794\n"
     ]
    }
   ],
   "source": [
    "for i in z:\n",
    "    print ((exp(i)/total)*100)"
   ]
  },
  {
   "cell_type": "markdown",
   "id": "232ef569",
   "metadata": {},
   "source": [
    "**Interpretation:**\n",
    "* The input has 0.2% probability to match the first class\n",
    "* The input has 1.8% probability to match the second class\n",
    "* The input has 97.96% probability to match the third class"
   ]
  }
 ],
 "metadata": {
  "kernelspec": {
   "display_name": "Python 3 (ipykernel)",
   "language": "python",
   "name": "python3"
  },
  "language_info": {
   "codemirror_mode": {
    "name": "ipython",
    "version": 3
   },
   "file_extension": ".py",
   "mimetype": "text/x-python",
   "name": "python",
   "nbconvert_exporter": "python",
   "pygments_lexer": "ipython3",
   "version": "3.9.7"
  }
 },
 "nbformat": 4,
 "nbformat_minor": 5
}
