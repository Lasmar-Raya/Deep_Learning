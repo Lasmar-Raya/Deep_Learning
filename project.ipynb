{
 "cells": [
  {
   "cell_type": "markdown",
   "id": "d97a2e68",
   "metadata": {},
   "source": [
    "#### Import Dependencies"
   ]
  },
  {
   "cell_type": "code",
   "execution_count": 2,
   "id": "55d076a8",
   "metadata": {},
   "outputs": [],
   "source": [
    "import numpy as np\n",
    "import matplotlib.pyplot as plt\n",
    "import pandas as pd\n",
    "import seaborn as sns\n",
    "%matplotlib inline"
   ]
  },
  {
   "cell_type": "code",
   "execution_count": 3,
   "id": "86000228",
   "metadata": {},
   "outputs": [
    {
     "data": {
      "text/html": [
       "<div>\n",
       "<style scoped>\n",
       "    .dataframe tbody tr th:only-of-type {\n",
       "        vertical-align: middle;\n",
       "    }\n",
       "\n",
       "    .dataframe tbody tr th {\n",
       "        vertical-align: top;\n",
       "    }\n",
       "\n",
       "    .dataframe thead th {\n",
       "        text-align: right;\n",
       "    }\n",
       "</style>\n",
       "<table border=\"1\" class=\"dataframe\">\n",
       "  <thead>\n",
       "    <tr style=\"text-align: right;\">\n",
       "      <th></th>\n",
       "      <th>asin</th>\n",
       "      <th>name</th>\n",
       "      <th>rating</th>\n",
       "      <th>date</th>\n",
       "      <th>verified</th>\n",
       "      <th>title</th>\n",
       "      <th>body</th>\n",
       "      <th>helpfulVotes</th>\n",
       "    </tr>\n",
       "  </thead>\n",
       "  <tbody>\n",
       "    <tr>\n",
       "      <th>0</th>\n",
       "      <td>B0000SX2UC</td>\n",
       "      <td>Janet</td>\n",
       "      <td>3</td>\n",
       "      <td>October 11, 2005</td>\n",
       "      <td>False</td>\n",
       "      <td>Def not best, but not worst</td>\n",
       "      <td>I had the Samsung A600 for awhile which is abs...</td>\n",
       "      <td>1.0</td>\n",
       "    </tr>\n",
       "    <tr>\n",
       "      <th>1</th>\n",
       "      <td>B0000SX2UC</td>\n",
       "      <td>Luke Wyatt</td>\n",
       "      <td>1</td>\n",
       "      <td>January 7, 2004</td>\n",
       "      <td>False</td>\n",
       "      <td>Text Messaging Doesn't Work</td>\n",
       "      <td>Due to a software issue between Nokia and Spri...</td>\n",
       "      <td>17.0</td>\n",
       "    </tr>\n",
       "    <tr>\n",
       "      <th>2</th>\n",
       "      <td>B0000SX2UC</td>\n",
       "      <td>Brooke</td>\n",
       "      <td>5</td>\n",
       "      <td>December 30, 2003</td>\n",
       "      <td>False</td>\n",
       "      <td>Love This Phone</td>\n",
       "      <td>This is a great, reliable phone. I also purcha...</td>\n",
       "      <td>5.0</td>\n",
       "    </tr>\n",
       "    <tr>\n",
       "      <th>3</th>\n",
       "      <td>B0000SX2UC</td>\n",
       "      <td>amy m. teague</td>\n",
       "      <td>3</td>\n",
       "      <td>March 18, 2004</td>\n",
       "      <td>False</td>\n",
       "      <td>Love the Phone, BUT...!</td>\n",
       "      <td>I love the phone and all, because I really did...</td>\n",
       "      <td>1.0</td>\n",
       "    </tr>\n",
       "    <tr>\n",
       "      <th>4</th>\n",
       "      <td>B0000SX2UC</td>\n",
       "      <td>tristazbimmer</td>\n",
       "      <td>4</td>\n",
       "      <td>August 28, 2005</td>\n",
       "      <td>False</td>\n",
       "      <td>Great phone service and options, lousy case!</td>\n",
       "      <td>The phone has been great for every purpose it ...</td>\n",
       "      <td>1.0</td>\n",
       "    </tr>\n",
       "  </tbody>\n",
       "</table>\n",
       "</div>"
      ],
      "text/plain": [
       "         asin           name  rating               date  verified  \\\n",
       "0  B0000SX2UC          Janet       3   October 11, 2005     False   \n",
       "1  B0000SX2UC     Luke Wyatt       1    January 7, 2004     False   \n",
       "2  B0000SX2UC         Brooke       5  December 30, 2003     False   \n",
       "3  B0000SX2UC  amy m. teague       3     March 18, 2004     False   \n",
       "4  B0000SX2UC  tristazbimmer       4    August 28, 2005     False   \n",
       "\n",
       "                                          title  \\\n",
       "0                   Def not best, but not worst   \n",
       "1                   Text Messaging Doesn't Work   \n",
       "2                               Love This Phone   \n",
       "3                       Love the Phone, BUT...!   \n",
       "4  Great phone service and options, lousy case!   \n",
       "\n",
       "                                                body  helpfulVotes  \n",
       "0  I had the Samsung A600 for awhile which is abs...           1.0  \n",
       "1  Due to a software issue between Nokia and Spri...          17.0  \n",
       "2  This is a great, reliable phone. I also purcha...           5.0  \n",
       "3  I love the phone and all, because I really did...           1.0  \n",
       "4  The phone has been great for every purpose it ...           1.0  "
      ]
     },
     "execution_count": 3,
     "metadata": {},
     "output_type": "execute_result"
    }
   ],
   "source": [
    "df = pd.read_csv('./reviews.csv')\n",
    "df.head()"
   ]
  },
  {
   "cell_type": "code",
   "execution_count": 6,
   "id": "77c988a2",
   "metadata": {},
   "outputs": [
    {
     "data": {
      "text/plain": [
       "['asin', 'name', 'rating', 'date', 'verified', 'title', 'body', 'helpfulVotes']"
      ]
     },
     "execution_count": 6,
     "metadata": {},
     "output_type": "execute_result"
    }
   ],
   "source": [
    "list(df.keys())"
   ]
  },
  {
   "cell_type": "code",
   "execution_count": 7,
   "id": "ba34ecf0",
   "metadata": {},
   "outputs": [
    {
     "data": {
      "text/plain": [
       "(82815, 8)"
      ]
     },
     "execution_count": 7,
     "metadata": {},
     "output_type": "execute_result"
    }
   ],
   "source": [
    "df.shape"
   ]
  },
  {
   "cell_type": "code",
   "execution_count": 8,
   "id": "47a10370",
   "metadata": {},
   "outputs": [
    {
     "data": {
      "text/plain": [
       "asin                0\n",
       "name                5\n",
       "rating              0\n",
       "date                0\n",
       "verified            0\n",
       "title              10\n",
       "body               20\n",
       "helpfulVotes    49681\n",
       "dtype: int64"
      ]
     },
     "execution_count": 8,
     "metadata": {},
     "output_type": "execute_result"
    }
   ],
   "source": [
    "df.isnull().sum()"
   ]
  },
  {
   "cell_type": "code",
   "execution_count": 9,
   "id": "32d5e556",
   "metadata": {},
   "outputs": [],
   "source": [
    "del df['helpfulVotes']"
   ]
  },
  {
   "cell_type": "code",
   "execution_count": 10,
   "id": "1abba645",
   "metadata": {},
   "outputs": [],
   "source": [
    "df.dropna(inplace=True)"
   ]
  },
  {
   "cell_type": "code",
   "execution_count": 11,
   "id": "9ddd8ba1",
   "metadata": {},
   "outputs": [
    {
     "data": {
      "text/plain": [
       "asin        0\n",
       "name        0\n",
       "rating      0\n",
       "date        0\n",
       "verified    0\n",
       "title       0\n",
       "body        0\n",
       "dtype: int64"
      ]
     },
     "execution_count": 11,
     "metadata": {},
     "output_type": "execute_result"
    }
   ],
   "source": [
    "df.isnull().sum()"
   ]
  },
  {
   "cell_type": "code",
   "execution_count": 15,
   "id": "dcfd0d35",
   "metadata": {},
   "outputs": [
    {
     "data": {
      "text/html": [
       "<div>\n",
       "<style scoped>\n",
       "    .dataframe tbody tr th:only-of-type {\n",
       "        vertical-align: middle;\n",
       "    }\n",
       "\n",
       "    .dataframe tbody tr th {\n",
       "        vertical-align: top;\n",
       "    }\n",
       "\n",
       "    .dataframe thead th {\n",
       "        text-align: right;\n",
       "    }\n",
       "</style>\n",
       "<table border=\"1\" class=\"dataframe\">\n",
       "  <thead>\n",
       "    <tr style=\"text-align: right;\">\n",
       "      <th></th>\n",
       "      <th>rating</th>\n",
       "      <th>body</th>\n",
       "    </tr>\n",
       "  </thead>\n",
       "  <tbody>\n",
       "    <tr>\n",
       "      <th>0</th>\n",
       "      <td>3</td>\n",
       "      <td>I had the Samsung A600 for awhile which is abs...</td>\n",
       "    </tr>\n",
       "    <tr>\n",
       "      <th>1</th>\n",
       "      <td>1</td>\n",
       "      <td>Due to a software issue between Nokia and Spri...</td>\n",
       "    </tr>\n",
       "    <tr>\n",
       "      <th>2</th>\n",
       "      <td>5</td>\n",
       "      <td>This is a great, reliable phone. I also purcha...</td>\n",
       "    </tr>\n",
       "    <tr>\n",
       "      <th>3</th>\n",
       "      <td>3</td>\n",
       "      <td>I love the phone and all, because I really did...</td>\n",
       "    </tr>\n",
       "    <tr>\n",
       "      <th>4</th>\n",
       "      <td>4</td>\n",
       "      <td>The phone has been great for every purpose it ...</td>\n",
       "    </tr>\n",
       "    <tr>\n",
       "      <th>...</th>\n",
       "      <td>...</td>\n",
       "      <td>...</td>\n",
       "    </tr>\n",
       "    <tr>\n",
       "      <th>82810</th>\n",
       "      <td>5</td>\n",
       "      <td>Best phone at this price.</td>\n",
       "    </tr>\n",
       "    <tr>\n",
       "      <th>82811</th>\n",
       "      <td>3</td>\n",
       "      <td>If you intend to use this phone on T Mobile be...</td>\n",
       "    </tr>\n",
       "    <tr>\n",
       "      <th>82812</th>\n",
       "      <td>1</td>\n",
       "      <td>Here is my Moto G7 Play complaint: It freezes ...</td>\n",
       "    </tr>\n",
       "    <tr>\n",
       "      <th>82813</th>\n",
       "      <td>1</td>\n",
       "      <td>As far as function works great camera no go wo...</td>\n",
       "    </tr>\n",
       "    <tr>\n",
       "      <th>82814</th>\n",
       "      <td>4</td>\n",
       "      <td>What a great phone! Sleek, fast, great soundin...</td>\n",
       "    </tr>\n",
       "  </tbody>\n",
       "</table>\n",
       "<p>82780 rows × 2 columns</p>\n",
       "</div>"
      ],
      "text/plain": [
       "       rating                                               body\n",
       "0           3  I had the Samsung A600 for awhile which is abs...\n",
       "1           1  Due to a software issue between Nokia and Spri...\n",
       "2           5  This is a great, reliable phone. I also purcha...\n",
       "3           3  I love the phone and all, because I really did...\n",
       "4           4  The phone has been great for every purpose it ...\n",
       "...       ...                                                ...\n",
       "82810       5                          Best phone at this price.\n",
       "82811       3  If you intend to use this phone on T Mobile be...\n",
       "82812       1  Here is my Moto G7 Play complaint: It freezes ...\n",
       "82813       1  As far as function works great camera no go wo...\n",
       "82814       4  What a great phone! Sleek, fast, great soundin...\n",
       "\n",
       "[82780 rows x 2 columns]"
      ]
     },
     "execution_count": 15,
     "metadata": {},
     "output_type": "execute_result"
    }
   ],
   "source": [
    "df.drop(['asin', 'name', 'date', 'verified', 'title'], axis=1)"
   ]
  },
  {
   "cell_type": "code",
   "execution_count": 16,
   "id": "db086e38",
   "metadata": {},
   "outputs": [
    {
     "data": {
      "text/plain": [
       "Index(['asin', 'name', 'rating', 'date', 'verified', 'title', 'body'], dtype='object')"
      ]
     },
     "execution_count": 16,
     "metadata": {},
     "output_type": "execute_result"
    }
   ],
   "source": [
    "df.columns"
   ]
  },
  {
   "cell_type": "code",
   "execution_count": 17,
   "id": "d697feb8",
   "metadata": {},
   "outputs": [
    {
     "data": {
      "text/plain": [
       "array([3, 1, 5, 4, 2], dtype=int64)"
      ]
     },
     "execution_count": 17,
     "metadata": {},
     "output_type": "execute_result"
    }
   ],
   "source": [
    "df[\"rating\"].unique()"
   ]
  },
  {
   "cell_type": "code",
   "execution_count": 18,
   "id": "38f2ee30",
   "metadata": {},
   "outputs": [
    {
     "data": {
      "text/plain": [
       "5    44991\n",
       "1    16422\n",
       "4    10708\n",
       "3     5754\n",
       "2     4905\n",
       "Name: rating, dtype: int64"
      ]
     },
     "execution_count": 18,
     "metadata": {},
     "output_type": "execute_result"
    }
   ],
   "source": [
    "df[\"rating\"].value_counts()"
   ]
  },
  {
   "cell_type": "markdown",
   "id": "4e613826",
   "metadata": {},
   "source": [
    "* From the values shown above, we conclude that our data is unbalanced\n",
    "* To solve this problem, we will divide these values in classes"
   ]
  },
  {
   "cell_type": "code",
   "execution_count": 19,
   "id": "678d6eff",
   "metadata": {},
   "outputs": [],
   "source": [
    "df[\"rating\"] = df[\"rating\"].apply(lambda x:0 if x<4 else 1)"
   ]
  },
  {
   "cell_type": "code",
   "execution_count": 20,
   "id": "ce30b696",
   "metadata": {},
   "outputs": [
    {
     "data": {
      "text/plain": [
       "1    55699\n",
       "0    27081\n",
       "Name: rating, dtype: int64"
      ]
     },
     "execution_count": 20,
     "metadata": {},
     "output_type": "execute_result"
    }
   ],
   "source": [
    "df[\"rating\"].value_counts()"
   ]
  },
  {
   "cell_type": "markdown",
   "id": "830268f1",
   "metadata": {},
   "source": [
    "* rating = 1 --> Positive rating\n",
    "* rating = 0 --> Negative rating"
   ]
  },
  {
   "cell_type": "code",
   "execution_count": 21,
   "id": "e9ab682e",
   "metadata": {},
   "outputs": [],
   "source": [
    "df['body'] = df['body'].str.lower()"
   ]
  },
  {
   "cell_type": "code",
   "execution_count": 22,
   "id": "2f351ad8",
   "metadata": {},
   "outputs": [],
   "source": [
    "import re\n",
    "import string\n",
    "import nltk"
   ]
  },
  {
   "cell_type": "code",
   "execution_count": 24,
   "id": "a93fceb4",
   "metadata": {},
   "outputs": [
    {
     "name": "stdout",
     "output_type": "stream",
     "text": [
      "!\"#$%&'()*+,-./:;<=>?@[\\]^_`{|}~\n"
     ]
    }
   ],
   "source": [
    "print(string.punctuation)"
   ]
  },
  {
   "cell_type": "code",
   "execution_count": 23,
   "id": "4b54b57b",
   "metadata": {},
   "outputs": [],
   "source": [
    "def remove_punctuation(text):\n",
    "    no_punct = ''.join([c for c in text if c not in string.punctuation])\n",
    "    return no_punct"
   ]
  },
  {
   "cell_type": "code",
   "execution_count": 25,
   "id": "ae3277f3",
   "metadata": {},
   "outputs": [],
   "source": [
    "df['body'] = df['body'].apply(lambda x: remove_punctuation(x))"
   ]
  },
  {
   "cell_type": "code",
   "execution_count": 26,
   "id": "e75e37e8",
   "metadata": {},
   "outputs": [
    {
     "data": {
      "text/plain": [
       "0        i had the samsung a600 for awhile which is abs...\n",
       "1        due to a software issue between nokia and spri...\n",
       "2        this is a great reliable phone i also purchase...\n",
       "3        i love the phone and all because i really did ...\n",
       "4        the phone has been great for every purpose it ...\n",
       "                               ...                        \n",
       "82810                             best phone at this price\n",
       "82811    if you intend to use this phone on t mobile be...\n",
       "82812    here is my moto g7 play complaint it freezes e...\n",
       "82813    as far as function works great camera no go wo...\n",
       "82814    what a great phone sleek fast great sounding b...\n",
       "Name: body, Length: 82780, dtype: object"
      ]
     },
     "execution_count": 26,
     "metadata": {},
     "output_type": "execute_result"
    }
   ],
   "source": [
    "df['body']"
   ]
  },
  {
   "cell_type": "code",
   "execution_count": 27,
   "id": "c2de9a03",
   "metadata": {},
   "outputs": [
    {
     "name": "stderr",
     "output_type": "stream",
     "text": [
      "[nltk_data] Downloading package vader_lexicon to\n",
      "[nltk_data]     C:\\Users\\RAYA\\AppData\\Roaming\\nltk_data...\n",
      "[nltk_data]   Package vader_lexicon is already up-to-date!\n"
     ]
    },
    {
     "data": {
      "text/plain": [
       "True"
      ]
     },
     "execution_count": 27,
     "metadata": {},
     "output_type": "execute_result"
    }
   ],
   "source": [
    "nltk.download('vader_lexicon')"
   ]
  },
  {
   "cell_type": "code",
   "execution_count": 28,
   "id": "2d13112a",
   "metadata": {},
   "outputs": [],
   "source": [
    "from nltk.sentiment.vader import SentimentIntensityAnalyzer"
   ]
  },
  {
   "cell_type": "code",
   "execution_count": 29,
   "id": "96e519ae",
   "metadata": {},
   "outputs": [],
   "source": [
    "sid = SentimentIntensityAnalyzer()"
   ]
  },
  {
   "cell_type": "code",
   "execution_count": 34,
   "id": "24ca0c83",
   "metadata": {},
   "outputs": [
    {
     "name": "stdout",
     "output_type": "stream",
     "text": [
      "{'neg': 0.082, 'neu': 0.812, 'pos': 0.106, 'compound': 0.8329}\n",
      "{'neg': 0.031, 'neu': 0.866, 'pos': 0.103, 'compound': 0.872}\n",
      "{'neg': 0.051, 'neu': 0.822, 'pos': 0.127, 'compound': 0.886}\n",
      "{'neg': 0.0, 'neu': 0.879, 'pos': 0.121, 'compound': 0.9306}\n",
      "{'neg': 0.066, 'neu': 0.822, 'pos': 0.112, 'compound': 0.6542}\n",
      "{'neg': 0.059, 'neu': 0.789, 'pos': 0.152, 'compound': 0.765}\n",
      "{'neg': 0.038, 'neu': 0.785, 'pos': 0.177, 'compound': 0.976}\n",
      "{'neg': 0.0, 'neu': 0.912, 'pos': 0.088, 'compound': 0.6705}\n",
      "{'neg': 0.038, 'neu': 0.727, 'pos': 0.234, 'compound': 0.8953}\n",
      "{'neg': 0.03, 'neu': 0.87, 'pos': 0.1, 'compound': 0.6486}\n"
     ]
    }
   ],
   "source": [
    "for x in range(10):\n",
    "    print(sid.polarity_scores(df['body'].iloc[x]))"
   ]
  },
  {
   "cell_type": "code",
   "execution_count": null,
   "id": "5afa605b",
   "metadata": {},
   "outputs": [],
   "source": []
  }
 ],
 "metadata": {
  "kernelspec": {
   "display_name": "Python 3 (ipykernel)",
   "language": "python",
   "name": "python3"
  },
  "language_info": {
   "codemirror_mode": {
    "name": "ipython",
    "version": 3
   },
   "file_extension": ".py",
   "mimetype": "text/x-python",
   "name": "python",
   "nbconvert_exporter": "python",
   "pygments_lexer": "ipython3",
   "version": "3.9.7"
  }
 },
 "nbformat": 4,
 "nbformat_minor": 5
}
